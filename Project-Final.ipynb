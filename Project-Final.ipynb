{
 "cells": [
  {
   "cell_type": "markdown",
   "metadata": {},
   "source": [
    "# Project\n",
    "\n"
   ]
  },
  {
   "cell_type": "markdown",
   "metadata": {},
   "source": [
    "# Setup"
   ]
  },
  {
   "cell_type": "code",
   "execution_count": 1,
   "metadata": {},
   "outputs": [],
   "source": [
    "# Common imports\n",
    "import numpy as np\n",
    "import pandas as pd\n",
    "from sklearn.model_selection import train_test_split\n",
    "from sklearn.preprocessing import StandardScaler\n",
    "from tensorflow.keras import Model, Input\n",
    "from tensorflow.keras.layers import Dense\n",
    "from tensorflow.keras.models import Sequential\n",
    "import tensorflow as tf\n",
    "from sklearn.metrics import mean_squared_error\n",
    "import matplotlib.pyplot as plt\n",
    "from tensorflow import keras\n",
    "\n",
    "from sklearn.metrics import confusion_matrix\n",
    "\n",
    "from sklearn.metrics import classification_report\n",
    "\n",
    "np.random.seed(42)\n"
   ]
  },
  {
   "cell_type": "markdown",
   "metadata": {},
   "source": [
    "# Get the data"
   ]
  },
  {
   "cell_type": "code",
   "execution_count": 2,
   "metadata": {},
   "outputs": [],
   "source": [
    "full_data = np.load(\"DASHlink_full_fourclass_raw_comp.npz\")\n",
    "flight_data = full_data['data']\n",
    "label = full_data['label']"
   ]
  },
  {
   "cell_type": "code",
   "execution_count": 3,
   "metadata": {},
   "outputs": [],
   "source": [
    "meta_data = pd.read_csv(\"DASHlink_full_fourclass_raw_meta.csv\")"
   ]
  },
  {
   "cell_type": "markdown",
   "metadata": {},
   "source": [
    "# Analysing the meta data"
   ]
  },
  {
   "cell_type": "code",
   "execution_count": 4,
   "metadata": {},
   "outputs": [
    {
     "data": {
      "text/html": [
       "<div>\n",
       "<style scoped>\n",
       "    .dataframe tbody tr th:only-of-type {\n",
       "        vertical-align: middle;\n",
       "    }\n",
       "\n",
       "    .dataframe tbody tr th {\n",
       "        vertical-align: top;\n",
       "    }\n",
       "\n",
       "    .dataframe thead th {\n",
       "        text-align: right;\n",
       "    }\n",
       "</style>\n",
       "<table border=\"1\" class=\"dataframe\">\n",
       "  <thead>\n",
       "    <tr style=\"text-align: right;\">\n",
       "      <th></th>\n",
       "      <th>data_instance</th>\n",
       "      <th>flight_record</th>\n",
       "      <th>departure_airport</th>\n",
       "      <th>departure_runway</th>\n",
       "      <th>arrival_airport</th>\n",
       "      <th>arrival_runway</th>\n",
       "      <th>label</th>\n",
       "    </tr>\n",
       "  </thead>\n",
       "  <tbody>\n",
       "    <tr>\n",
       "      <th>0</th>\n",
       "      <td>0</td>\n",
       "      <td>652200101120916</td>\n",
       "      <td>KSGF</td>\n",
       "      <td>32</td>\n",
       "      <td>KMEM</td>\n",
       "      <td>36L</td>\n",
       "      <td>0</td>\n",
       "    </tr>\n",
       "    <tr>\n",
       "      <th>1</th>\n",
       "      <td>1</td>\n",
       "      <td>652200101121118</td>\n",
       "      <td>KMEM</td>\n",
       "      <td>36L</td>\n",
       "      <td>KMCI</td>\n",
       "      <td>1L</td>\n",
       "      <td>0</td>\n",
       "    </tr>\n",
       "    <tr>\n",
       "      <th>2</th>\n",
       "      <td>2</td>\n",
       "      <td>652200101121341</td>\n",
       "      <td>KMCI</td>\n",
       "      <td>19R</td>\n",
       "      <td>KMEM</td>\n",
       "      <td>36R</td>\n",
       "      <td>0</td>\n",
       "    </tr>\n",
       "    <tr>\n",
       "      <th>3</th>\n",
       "      <td>3</td>\n",
       "      <td>652200101130002</td>\n",
       "      <td>KMEM</td>\n",
       "      <td>18C</td>\n",
       "      <td>KPNS</td>\n",
       "      <td>17</td>\n",
       "      <td>0</td>\n",
       "    </tr>\n",
       "    <tr>\n",
       "      <th>4</th>\n",
       "      <td>4</td>\n",
       "      <td>652200101130451</td>\n",
       "      <td>KPNS</td>\n",
       "      <td>35</td>\n",
       "      <td>KMEM</td>\n",
       "      <td>36R</td>\n",
       "      <td>0</td>\n",
       "    </tr>\n",
       "    <tr>\n",
       "      <th>...</th>\n",
       "      <td>...</td>\n",
       "      <td>...</td>\n",
       "      <td>...</td>\n",
       "      <td>...</td>\n",
       "      <td>...</td>\n",
       "      <td>...</td>\n",
       "      <td>...</td>\n",
       "    </tr>\n",
       "    <tr>\n",
       "      <th>99832</th>\n",
       "      <td>99832</td>\n",
       "      <td>687200309091549</td>\n",
       "      <td>KFAR</td>\n",
       "      <td>36</td>\n",
       "      <td>KMSP</td>\n",
       "      <td>30L</td>\n",
       "      <td>3</td>\n",
       "    </tr>\n",
       "    <tr>\n",
       "      <th>99833</th>\n",
       "      <td>99833</td>\n",
       "      <td>687200402251304</td>\n",
       "      <td>KDTW</td>\n",
       "      <td>21L</td>\n",
       "      <td>KEWR</td>\n",
       "      <td>22L</td>\n",
       "      <td>3</td>\n",
       "    </tr>\n",
       "    <tr>\n",
       "      <th>99834</th>\n",
       "      <td>99834</td>\n",
       "      <td>687200403240306</td>\n",
       "      <td>KEWR</td>\n",
       "      <td>22L</td>\n",
       "      <td>KDTW</td>\n",
       "      <td>21L</td>\n",
       "      <td>3</td>\n",
       "    </tr>\n",
       "    <tr>\n",
       "      <th>99835</th>\n",
       "      <td>99835</td>\n",
       "      <td>687200403260749</td>\n",
       "      <td>KCLE</td>\n",
       "      <td>6L</td>\n",
       "      <td>KDTW</td>\n",
       "      <td>3R</td>\n",
       "      <td>3</td>\n",
       "    </tr>\n",
       "    <tr>\n",
       "      <th>99836</th>\n",
       "      <td>99836</td>\n",
       "      <td>687200404180330</td>\n",
       "      <td>KBTV</td>\n",
       "      <td>15</td>\n",
       "      <td>KDTW</td>\n",
       "      <td>21L</td>\n",
       "      <td>3</td>\n",
       "    </tr>\n",
       "  </tbody>\n",
       "</table>\n",
       "<p>99837 rows × 7 columns</p>\n",
       "</div>"
      ],
      "text/plain": [
       "       data_instance    flight_record departure_airport departure_runway  \\\n",
       "0                  0  652200101120916              KSGF               32   \n",
       "1                  1  652200101121118              KMEM              36L   \n",
       "2                  2  652200101121341              KMCI              19R   \n",
       "3                  3  652200101130002              KMEM              18C   \n",
       "4                  4  652200101130451              KPNS               35   \n",
       "...              ...              ...               ...              ...   \n",
       "99832          99832  687200309091549              KFAR               36   \n",
       "99833          99833  687200402251304              KDTW              21L   \n",
       "99834          99834  687200403240306              KEWR              22L   \n",
       "99835          99835  687200403260749              KCLE               6L   \n",
       "99836          99836  687200404180330              KBTV               15   \n",
       "\n",
       "      arrival_airport arrival_runway  label  \n",
       "0                KMEM            36L      0  \n",
       "1                KMCI             1L      0  \n",
       "2                KMEM            36R      0  \n",
       "3                KPNS             17      0  \n",
       "4                KMEM            36R      0  \n",
       "...               ...            ...    ...  \n",
       "99832            KMSP            30L      3  \n",
       "99833            KEWR            22L      3  \n",
       "99834            KDTW            21L      3  \n",
       "99835            KDTW             3R      3  \n",
       "99836            KDTW            21L      3  \n",
       "\n",
       "[99837 rows x 7 columns]"
      ]
     },
     "execution_count": 4,
     "metadata": {},
     "output_type": "execute_result"
    }
   ],
   "source": [
    "meta_data"
   ]
  },
  {
   "cell_type": "markdown",
   "metadata": {},
   "source": [
    "#### Overview of Metadata:\n",
    "- The metadata provided contains detailed information about the flights from which the data was collected.\n",
    "- It includes essential details such as the flight record, departure airport, and other relevant flight-specific information.\n",
    "\n",
    "#### Importance of Labels:\n",
    "- The metadata's most crucial aspect is the labels associated with each instance.\n",
    "- These labels serve as identifiers for different classes or categories within the dataset.\n",
    "\n",
    "#### Utilization in Data Processing:\n",
    "- **Filtering Data:**\n",
    "  - We leverage the labels to filter out specific instances or subsets of the data that correspond to our target classes.\n",
    "  - This ensures that our analysis focuses only on relevant instances aligned with our objectives.\n",
    "\n",
    "- **Data Splitting:**\n",
    "  - The labels are instrumental in splitting the dataset into training, validation, and testing sets.\n",
    "  - This segregation facilitates robust model training, validation, and evaluation processes, essential for building reliable machine learning models.\n",
    "\n",
    "#### Enhancing Data Understanding:\n",
    "- By incorporating metadata, we gain a deeper understanding of the underlying context and characteristics of the dataset.\n",
    "- Understanding the flight-specific attributes and labels aids in formulating effective data processing and modeling strategies."
   ]
  },
  {
   "cell_type": "markdown",
   "metadata": {},
   "source": [
    "## Analyse the flight data"
   ]
  },
  {
   "cell_type": "code",
   "execution_count": 5,
   "metadata": {},
   "outputs": [
    {
     "data": {
      "text/plain": [
       "(99837, 160, 20)"
      ]
     },
     "execution_count": 5,
     "metadata": {},
     "output_type": "execute_result"
    }
   ],
   "source": [
    "flight_data.shape"
   ]
  },
  {
   "cell_type": "code",
   "execution_count": 6,
   "metadata": {
    "scrolled": true
   },
   "outputs": [
    {
     "data": {
      "text/html": [
       "<div>\n",
       "<style scoped>\n",
       "    .dataframe tbody tr th:only-of-type {\n",
       "        vertical-align: middle;\n",
       "    }\n",
       "\n",
       "    .dataframe tbody tr th {\n",
       "        vertical-align: top;\n",
       "    }\n",
       "\n",
       "    .dataframe thead th {\n",
       "        text-align: right;\n",
       "    }\n",
       "</style>\n",
       "<table border=\"1\" class=\"dataframe\">\n",
       "  <thead>\n",
       "    <tr style=\"text-align: right;\">\n",
       "      <th></th>\n",
       "      <th>AILERON POSITION LH</th>\n",
       "      <th>AILERON POSITION RH</th>\n",
       "      <th>ANGLE OF ATTACK (CORRECTED)</th>\n",
       "      <th>ALTITUDE (BARO CORRECT)</th>\n",
       "      <th>COMPUTED AIRSPEED LSP</th>\n",
       "      <th>SELECTED COURSE</th>\n",
       "      <th>DRIFT ANGLE</th>\n",
       "      <th>ELEVATOR POSITION LEFT</th>\n",
       "      <th>FLAP POSITION</th>\n",
       "      <th>GLIDESLOPE DEVIATION</th>\n",
       "      <th>SELECTED HEADING</th>\n",
       "      <th>LOCALIZER DEVIATION</th>\n",
       "      <th>CORE SPEED AVG</th>\n",
       "      <th>TOTAL PRESSURE LSP</th>\n",
       "      <th>PITCH ANGLE LSP</th>\n",
       "      <th>ROLL ANGLE LSP</th>\n",
       "      <th>RUDDER POSITION</th>\n",
       "      <th>TRUE HEADING LSP</th>\n",
       "      <th>VERTICAL ACCELERATION</th>\n",
       "      <th>WIND SPEED</th>\n",
       "    </tr>\n",
       "  </thead>\n",
       "  <tbody>\n",
       "    <tr>\n",
       "      <th>0</th>\n",
       "      <td>81.26119</td>\n",
       "      <td>82.652336</td>\n",
       "      <td>-8.111792</td>\n",
       "      <td>1969.6174</td>\n",
       "      <td>155.57140</td>\n",
       "      <td>-2.109358</td>\n",
       "      <td>-0.692778</td>\n",
       "      <td>-4.952854</td>\n",
       "      <td>3065.0</td>\n",
       "      <td>0.01794</td>\n",
       "      <td>-2.109358</td>\n",
       "      <td>6.664000e-03</td>\n",
       "      <td>70.741180</td>\n",
       "      <td>985.42550</td>\n",
       "      <td>-3.662261</td>\n",
       "      <td>0.785912</td>\n",
       "      <td>-0.390141</td>\n",
       "      <td>-1.081870</td>\n",
       "      <td>0.972379</td>\n",
       "      <td>12.625183</td>\n",
       "    </tr>\n",
       "    <tr>\n",
       "      <th>1</th>\n",
       "      <td>78.11066</td>\n",
       "      <td>78.499360</td>\n",
       "      <td>-6.283905</td>\n",
       "      <td>3301.5562</td>\n",
       "      <td>181.57553</td>\n",
       "      <td>7.997990</td>\n",
       "      <td>-1.273455</td>\n",
       "      <td>-5.873463</td>\n",
       "      <td>2493.0</td>\n",
       "      <td>0.14586</td>\n",
       "      <td>-19.072126</td>\n",
       "      <td>-1.856120e-01</td>\n",
       "      <td>62.359978</td>\n",
       "      <td>958.36140</td>\n",
       "      <td>-3.243135</td>\n",
       "      <td>4.222164</td>\n",
       "      <td>-0.449211</td>\n",
       "      <td>-27.665743</td>\n",
       "      <td>0.886602</td>\n",
       "      <td>7.155745</td>\n",
       "    </tr>\n",
       "    <tr>\n",
       "      <th>2</th>\n",
       "      <td>83.12287</td>\n",
       "      <td>84.084400</td>\n",
       "      <td>-6.924273</td>\n",
       "      <td>2299.1843</td>\n",
       "      <td>163.21909</td>\n",
       "      <td>-2.109358</td>\n",
       "      <td>-1.048549</td>\n",
       "      <td>-5.709801</td>\n",
       "      <td>3033.0</td>\n",
       "      <td>0.16731</td>\n",
       "      <td>-30.058378</td>\n",
       "      <td>-2.208920e-01</td>\n",
       "      <td>61.374794</td>\n",
       "      <td>976.13055</td>\n",
       "      <td>-3.144456</td>\n",
       "      <td>0.344788</td>\n",
       "      <td>-0.824351</td>\n",
       "      <td>-14.638681</td>\n",
       "      <td>1.025044</td>\n",
       "      <td>6.185529</td>\n",
       "    </tr>\n",
       "    <tr>\n",
       "      <th>3</th>\n",
       "      <td>82.30455</td>\n",
       "      <td>83.716156</td>\n",
       "      <td>-9.820179</td>\n",
       "      <td>1764.7753</td>\n",
       "      <td>161.22673</td>\n",
       "      <td>165.936330</td>\n",
       "      <td>-2.306871</td>\n",
       "      <td>-3.479878</td>\n",
       "      <td>3050.0</td>\n",
       "      <td>-0.00234</td>\n",
       "      <td>165.936330</td>\n",
       "      <td>1.568000e-03</td>\n",
       "      <td>62.173885</td>\n",
       "      <td>992.32710</td>\n",
       "      <td>-4.844926</td>\n",
       "      <td>2.088267</td>\n",
       "      <td>-1.032340</td>\n",
       "      <td>168.298400</td>\n",
       "      <td>-0.087110</td>\n",
       "      <td>9.093069</td>\n",
       "    </tr>\n",
       "    <tr>\n",
       "      <th>4</th>\n",
       "      <td>80.64745</td>\n",
       "      <td>82.468216</td>\n",
       "      <td>-11.309158</td>\n",
       "      <td>1967.4978</td>\n",
       "      <td>138.26576</td>\n",
       "      <td>-2.109358</td>\n",
       "      <td>-3.178547</td>\n",
       "      <td>-5.853004</td>\n",
       "      <td>3700.0</td>\n",
       "      <td>0.00936</td>\n",
       "      <td>-2.109358</td>\n",
       "      <td>7.401487e-17</td>\n",
       "      <td>62.165314</td>\n",
       "      <td>977.05096</td>\n",
       "      <td>-5.632410</td>\n",
       "      <td>-0.406570</td>\n",
       "      <td>-0.640512</td>\n",
       "      <td>2.297373</td>\n",
       "      <td>0.871211</td>\n",
       "      <td>10.070789</td>\n",
       "    </tr>\n",
       "  </tbody>\n",
       "</table>\n",
       "</div>"
      ],
      "text/plain": [
       "   AILERON POSITION LH  AILERON POSITION RH  ANGLE OF ATTACK (CORRECTED)  \\\n",
       "0             81.26119            82.652336                    -8.111792   \n",
       "1             78.11066            78.499360                    -6.283905   \n",
       "2             83.12287            84.084400                    -6.924273   \n",
       "3             82.30455            83.716156                    -9.820179   \n",
       "4             80.64745            82.468216                   -11.309158   \n",
       "\n",
       "   ALTITUDE (BARO CORRECT)  COMPUTED AIRSPEED LSP  SELECTED COURSE  \\\n",
       "0                1969.6174              155.57140        -2.109358   \n",
       "1                3301.5562              181.57553         7.997990   \n",
       "2                2299.1843              163.21909        -2.109358   \n",
       "3                1764.7753              161.22673       165.936330   \n",
       "4                1967.4978              138.26576        -2.109358   \n",
       "\n",
       "   DRIFT ANGLE  ELEVATOR POSITION LEFT  FLAP POSITION  GLIDESLOPE DEVIATION  \\\n",
       "0    -0.692778               -4.952854         3065.0               0.01794   \n",
       "1    -1.273455               -5.873463         2493.0               0.14586   \n",
       "2    -1.048549               -5.709801         3033.0               0.16731   \n",
       "3    -2.306871               -3.479878         3050.0              -0.00234   \n",
       "4    -3.178547               -5.853004         3700.0               0.00936   \n",
       "\n",
       "   SELECTED HEADING  LOCALIZER DEVIATION  CORE SPEED AVG  TOTAL PRESSURE LSP  \\\n",
       "0         -2.109358         6.664000e-03       70.741180           985.42550   \n",
       "1        -19.072126        -1.856120e-01       62.359978           958.36140   \n",
       "2        -30.058378        -2.208920e-01       61.374794           976.13055   \n",
       "3        165.936330         1.568000e-03       62.173885           992.32710   \n",
       "4         -2.109358         7.401487e-17       62.165314           977.05096   \n",
       "\n",
       "   PITCH ANGLE LSP  ROLL ANGLE LSP  RUDDER POSITION  TRUE HEADING LSP  \\\n",
       "0        -3.662261        0.785912        -0.390141         -1.081870   \n",
       "1        -3.243135        4.222164        -0.449211        -27.665743   \n",
       "2        -3.144456        0.344788        -0.824351        -14.638681   \n",
       "3        -4.844926        2.088267        -1.032340        168.298400   \n",
       "4        -5.632410       -0.406570        -0.640512          2.297373   \n",
       "\n",
       "   VERTICAL ACCELERATION  WIND SPEED  \n",
       "0               0.972379   12.625183  \n",
       "1               0.886602    7.155745  \n",
       "2               1.025044    6.185529  \n",
       "3              -0.087110    9.093069  \n",
       "4               0.871211   10.070789  "
      ]
     },
     "execution_count": 6,
     "metadata": {},
     "output_type": "execute_result"
    }
   ],
   "source": [
    "pd.DataFrame(flight_data[:5,:1,: ].reshape(5,20), columns= ['AILERON POSITION LH', 'AILERON POSITION RH', 'ANGLE OF ATTACK (CORRECTED)', 'ALTITUDE (BARO CORRECT)', 'COMPUTED AIRSPEED LSP', 'SELECTED COURSE','DRIFT ANGLE' ,'ELEVATOR POSITION LEFT' ,'FLAP POSITION' , 'GLIDESLOPE DEVIATION', 'SELECTED HEADING' , 'LOCALIZER DEVIATION', 'CORE SPEED AVG',  'TOTAL PRESSURE LSP', 'PITCH ANGLE LSP', 'ROLL ANGLE LSP', 'RUDDER POSITION', 'TRUE HEADING LSP', 'VERTICAL ACCELERATION', 'WIND SPEED'])"
   ]
  },
  {
   "cell_type": "markdown",
   "metadata": {},
   "source": [
    "### Description of Data Shown Above\n",
    "\n",
    "- **Temporal Scope:**\n",
    "  - The data pertains to the initial second of observation for a set of five aircraft.\n",
    "\n",
    "- **Temporal Granularity:**\n",
    "  - Specifically captures information from the first moment of observation, offering a snapshot of each aircraft's state at that precise instant.\n",
    "\n",
    "- **Limited Aircraft Sample:**\n",
    "  - The dataset encompasses a small sample size of only five aircraft, providing a focused view of their characteristics and behaviors at the onset of observation.\n",
    "\n",
    "- **Purposeful Selection:**\n",
    "  - The selection of this initial moment allows for the examination of the aircraft's immediate status and conditions, potentially influencing subsequent analysis and decision-making processes.\n",
    "\n",
    "- **Scope Clarification:**\n",
    "  - It's important to note that the data concentrates solely on the first second of observation for each aircraft, offering a narrow but detailed perspective on their initial states.\n",
    "\n",
    "| data_instance | flight_record     | departure_airport | departure_runway | arrival_airport | arrival_runway | label |\n",
    "|---------------|-------------------|-------------------|------------------|-----------------|----------------|-------|\n",
    "| 0             | 652200101120916   | KSGF              | 32               | KMEM            | 36L            | 0     |\n",
    "| 1             | 652200101121118   | KMEM              | 36L              | KMCI            | 1L             | 0     |\n",
    "| 2             | 652200101121341   | KMCI              | 19R              | KMEM            | 36R            | 0     |\n",
    "| 3             | 652200101130002   | KMEM              | 18C              | KPNS            | 17             | 0     |\n",
    "| 4             | 652200101130451   | KPNS              | 35               | KMEM            | 36R            | 0     |\n",
    "\n"
   ]
  },
  {
   "cell_type": "code",
   "execution_count": 7,
   "metadata": {},
   "outputs": [
    {
     "data": {
      "text/html": [
       "<div>\n",
       "<style scoped>\n",
       "    .dataframe tbody tr th:only-of-type {\n",
       "        vertical-align: middle;\n",
       "    }\n",
       "\n",
       "    .dataframe tbody tr th {\n",
       "        vertical-align: top;\n",
       "    }\n",
       "\n",
       "    .dataframe thead th {\n",
       "        text-align: right;\n",
       "    }\n",
       "</style>\n",
       "<table border=\"1\" class=\"dataframe\">\n",
       "  <thead>\n",
       "    <tr style=\"text-align: right;\">\n",
       "      <th></th>\n",
       "      <th>AILERON POSITION LH</th>\n",
       "      <th>AILERON POSITION RH</th>\n",
       "      <th>ANGLE OF ATTACK (CORRECTED)</th>\n",
       "      <th>ALTITUDE (BARO CORRECT)</th>\n",
       "      <th>COMPUTED AIRSPEED LSP</th>\n",
       "      <th>SELECTED COURSE</th>\n",
       "      <th>DRIFT ANGLE</th>\n",
       "      <th>ELEVATOR POSITION LEFT</th>\n",
       "      <th>FLAP POSITION</th>\n",
       "      <th>GLIDESLOPE DEVIATION</th>\n",
       "      <th>SELECTED HEADING</th>\n",
       "      <th>LOCALIZER DEVIATION</th>\n",
       "      <th>CORE SPEED AVG</th>\n",
       "      <th>TOTAL PRESSURE LSP</th>\n",
       "      <th>PITCH ANGLE LSP</th>\n",
       "      <th>ROLL ANGLE LSP</th>\n",
       "      <th>RUDDER POSITION</th>\n",
       "      <th>TRUE HEADING LSP</th>\n",
       "      <th>VERTICAL ACCELERATION</th>\n",
       "      <th>WIND SPEED</th>\n",
       "    </tr>\n",
       "  </thead>\n",
       "  <tbody>\n",
       "    <tr>\n",
       "      <th>0</th>\n",
       "      <td>81.261190</td>\n",
       "      <td>82.652336</td>\n",
       "      <td>-8.111792</td>\n",
       "      <td>1969.61740</td>\n",
       "      <td>155.571400</td>\n",
       "      <td>-2.109358</td>\n",
       "      <td>-0.692778</td>\n",
       "      <td>-4.952854</td>\n",
       "      <td>3065.0</td>\n",
       "      <td>0.01794</td>\n",
       "      <td>-2.109358</td>\n",
       "      <td>0.006664</td>\n",
       "      <td>70.741180</td>\n",
       "      <td>985.42550</td>\n",
       "      <td>-3.662261</td>\n",
       "      <td>0.785912</td>\n",
       "      <td>-0.390141</td>\n",
       "      <td>-1.081870</td>\n",
       "      <td>0.972379</td>\n",
       "      <td>12.625183</td>\n",
       "    </tr>\n",
       "    <tr>\n",
       "      <th>1</th>\n",
       "      <td>79.604095</td>\n",
       "      <td>81.015700</td>\n",
       "      <td>-7.644611</td>\n",
       "      <td>1955.69950</td>\n",
       "      <td>154.512050</td>\n",
       "      <td>-2.109358</td>\n",
       "      <td>-0.867216</td>\n",
       "      <td>-5.198349</td>\n",
       "      <td>3065.0</td>\n",
       "      <td>0.01950</td>\n",
       "      <td>-2.109358</td>\n",
       "      <td>0.007448</td>\n",
       "      <td>70.717750</td>\n",
       "      <td>985.52030</td>\n",
       "      <td>-3.665276</td>\n",
       "      <td>0.046774</td>\n",
       "      <td>-0.756234</td>\n",
       "      <td>-0.704820</td>\n",
       "      <td>0.770077</td>\n",
       "      <td>11.893839</td>\n",
       "    </tr>\n",
       "    <tr>\n",
       "      <th>2</th>\n",
       "      <td>81.302110</td>\n",
       "      <td>80.770200</td>\n",
       "      <td>-7.552573</td>\n",
       "      <td>1940.02670</td>\n",
       "      <td>153.328670</td>\n",
       "      <td>-2.109358</td>\n",
       "      <td>-1.424093</td>\n",
       "      <td>-4.830105</td>\n",
       "      <td>3065.0</td>\n",
       "      <td>0.01872</td>\n",
       "      <td>-2.109358</td>\n",
       "      <td>0.009604</td>\n",
       "      <td>70.702760</td>\n",
       "      <td>985.41650</td>\n",
       "      <td>-3.940319</td>\n",
       "      <td>0.804820</td>\n",
       "      <td>-1.325632</td>\n",
       "      <td>-0.240446</td>\n",
       "      <td>0.543937</td>\n",
       "      <td>12.559112</td>\n",
       "    </tr>\n",
       "    <tr>\n",
       "      <th>3</th>\n",
       "      <td>82.345470</td>\n",
       "      <td>83.900276</td>\n",
       "      <td>-8.395265</td>\n",
       "      <td>1924.54930</td>\n",
       "      <td>150.888180</td>\n",
       "      <td>-2.109358</td>\n",
       "      <td>-1.141912</td>\n",
       "      <td>-4.625526</td>\n",
       "      <td>3065.0</td>\n",
       "      <td>0.01677</td>\n",
       "      <td>-2.109358</td>\n",
       "      <td>0.009408</td>\n",
       "      <td>70.741590</td>\n",
       "      <td>984.81710</td>\n",
       "      <td>-4.275129</td>\n",
       "      <td>1.077102</td>\n",
       "      <td>-0.326884</td>\n",
       "      <td>-0.191627</td>\n",
       "      <td>1.062817</td>\n",
       "      <td>10.542998</td>\n",
       "    </tr>\n",
       "    <tr>\n",
       "      <th>4</th>\n",
       "      <td>81.874930</td>\n",
       "      <td>82.754620</td>\n",
       "      <td>-7.854284</td>\n",
       "      <td>1905.36700</td>\n",
       "      <td>150.694610</td>\n",
       "      <td>-2.109358</td>\n",
       "      <td>-0.724660</td>\n",
       "      <td>-4.400490</td>\n",
       "      <td>3065.0</td>\n",
       "      <td>0.01677</td>\n",
       "      <td>-2.109358</td>\n",
       "      <td>0.009408</td>\n",
       "      <td>70.570450</td>\n",
       "      <td>985.23065</td>\n",
       "      <td>-4.241483</td>\n",
       "      <td>1.654806</td>\n",
       "      <td>0.129545</td>\n",
       "      <td>-0.528425</td>\n",
       "      <td>0.867628</td>\n",
       "      <td>9.713539</td>\n",
       "    </tr>\n",
       "    <tr>\n",
       "      <th>...</th>\n",
       "      <td>...</td>\n",
       "      <td>...</td>\n",
       "      <td>...</td>\n",
       "      <td>...</td>\n",
       "      <td>...</td>\n",
       "      <td>...</td>\n",
       "      <td>...</td>\n",
       "      <td>...</td>\n",
       "      <td>...</td>\n",
       "      <td>...</td>\n",
       "      <td>...</td>\n",
       "      <td>...</td>\n",
       "      <td>...</td>\n",
       "      <td>...</td>\n",
       "      <td>...</td>\n",
       "      <td>...</td>\n",
       "      <td>...</td>\n",
       "      <td>...</td>\n",
       "      <td>...</td>\n",
       "      <td>...</td>\n",
       "    </tr>\n",
       "    <tr>\n",
       "      <th>155</th>\n",
       "      <td>79.542725</td>\n",
       "      <td>82.038600</td>\n",
       "      <td>-3.399119</td>\n",
       "      <td>369.51834</td>\n",
       "      <td>116.645760</td>\n",
       "      <td>-2.109358</td>\n",
       "      <td>-1.466813</td>\n",
       "      <td>-2.436520</td>\n",
       "      <td>3701.0</td>\n",
       "      <td>-0.04017</td>\n",
       "      <td>-2.109358</td>\n",
       "      <td>-0.010192</td>\n",
       "      <td>79.387634</td>\n",
       "      <td>1024.64040</td>\n",
       "      <td>-1.882211</td>\n",
       "      <td>-0.315151</td>\n",
       "      <td>-1.063202</td>\n",
       "      <td>0.573140</td>\n",
       "      <td>0.987543</td>\n",
       "      <td>9.934987</td>\n",
       "    </tr>\n",
       "    <tr>\n",
       "      <th>156</th>\n",
       "      <td>80.258750</td>\n",
       "      <td>80.136000</td>\n",
       "      <td>-2.238594</td>\n",
       "      <td>357.74258</td>\n",
       "      <td>116.160164</td>\n",
       "      <td>-2.109358</td>\n",
       "      <td>-1.488424</td>\n",
       "      <td>-1.229500</td>\n",
       "      <td>3701.0</td>\n",
       "      <td>-0.08034</td>\n",
       "      <td>-2.109358</td>\n",
       "      <td>-0.006664</td>\n",
       "      <td>79.338200</td>\n",
       "      <td>1024.79610</td>\n",
       "      <td>-1.309721</td>\n",
       "      <td>-0.224883</td>\n",
       "      <td>-0.209496</td>\n",
       "      <td>0.299006</td>\n",
       "      <td>0.990345</td>\n",
       "      <td>8.879451</td>\n",
       "    </tr>\n",
       "    <tr>\n",
       "      <th>157</th>\n",
       "      <td>78.847150</td>\n",
       "      <td>81.936310</td>\n",
       "      <td>0.149757</td>\n",
       "      <td>346.11517</td>\n",
       "      <td>114.936070</td>\n",
       "      <td>-2.109358</td>\n",
       "      <td>-1.614193</td>\n",
       "      <td>-2.027359</td>\n",
       "      <td>3701.0</td>\n",
       "      <td>-0.12519</td>\n",
       "      <td>-2.109358</td>\n",
       "      <td>-0.003724</td>\n",
       "      <td>79.454490</td>\n",
       "      <td>1024.89700</td>\n",
       "      <td>0.100387</td>\n",
       "      <td>0.674243</td>\n",
       "      <td>-0.894619</td>\n",
       "      <td>0.687853</td>\n",
       "      <td>1.082752</td>\n",
       "      <td>9.047807</td>\n",
       "    </tr>\n",
       "    <tr>\n",
       "      <th>158</th>\n",
       "      <td>83.900276</td>\n",
       "      <td>84.698135</td>\n",
       "      <td>1.317100</td>\n",
       "      <td>335.11508</td>\n",
       "      <td>114.101250</td>\n",
       "      <td>-2.109358</td>\n",
       "      <td>-1.529666</td>\n",
       "      <td>-2.047817</td>\n",
       "      <td>3701.0</td>\n",
       "      <td>-0.16380</td>\n",
       "      <td>-2.109358</td>\n",
       "      <td>-0.005684</td>\n",
       "      <td>79.324840</td>\n",
       "      <td>1024.83230</td>\n",
       "      <td>0.681758</td>\n",
       "      <td>1.592121</td>\n",
       "      <td>-1.356709</td>\n",
       "      <td>0.513559</td>\n",
       "      <td>1.050346</td>\n",
       "      <td>8.270673</td>\n",
       "    </tr>\n",
       "    <tr>\n",
       "      <th>159</th>\n",
       "      <td>82.570500</td>\n",
       "      <td>77.128680</td>\n",
       "      <td>0.652506</td>\n",
       "      <td>321.76358</td>\n",
       "      <td>114.756260</td>\n",
       "      <td>-2.109358</td>\n",
       "      <td>-0.819070</td>\n",
       "      <td>-1.004459</td>\n",
       "      <td>3701.0</td>\n",
       "      <td>-0.14664</td>\n",
       "      <td>-2.109358</td>\n",
       "      <td>0.003136</td>\n",
       "      <td>79.679760</td>\n",
       "      <td>1025.56470</td>\n",
       "      <td>1.094914</td>\n",
       "      <td>0.962178</td>\n",
       "      <td>-4.275764</td>\n",
       "      <td>0.296197</td>\n",
       "      <td>1.096334</td>\n",
       "      <td>9.127736</td>\n",
       "    </tr>\n",
       "  </tbody>\n",
       "</table>\n",
       "<p>160 rows × 20 columns</p>\n",
       "</div>"
      ],
      "text/plain": [
       "     AILERON POSITION LH  AILERON POSITION RH  ANGLE OF ATTACK (CORRECTED)  \\\n",
       "0              81.261190            82.652336                    -8.111792   \n",
       "1              79.604095            81.015700                    -7.644611   \n",
       "2              81.302110            80.770200                    -7.552573   \n",
       "3              82.345470            83.900276                    -8.395265   \n",
       "4              81.874930            82.754620                    -7.854284   \n",
       "..                   ...                  ...                          ...   \n",
       "155            79.542725            82.038600                    -3.399119   \n",
       "156            80.258750            80.136000                    -2.238594   \n",
       "157            78.847150            81.936310                     0.149757   \n",
       "158            83.900276            84.698135                     1.317100   \n",
       "159            82.570500            77.128680                     0.652506   \n",
       "\n",
       "     ALTITUDE (BARO CORRECT)  COMPUTED AIRSPEED LSP  SELECTED COURSE  \\\n",
       "0                 1969.61740             155.571400        -2.109358   \n",
       "1                 1955.69950             154.512050        -2.109358   \n",
       "2                 1940.02670             153.328670        -2.109358   \n",
       "3                 1924.54930             150.888180        -2.109358   \n",
       "4                 1905.36700             150.694610        -2.109358   \n",
       "..                       ...                    ...              ...   \n",
       "155                369.51834             116.645760        -2.109358   \n",
       "156                357.74258             116.160164        -2.109358   \n",
       "157                346.11517             114.936070        -2.109358   \n",
       "158                335.11508             114.101250        -2.109358   \n",
       "159                321.76358             114.756260        -2.109358   \n",
       "\n",
       "     DRIFT ANGLE  ELEVATOR POSITION LEFT  FLAP POSITION  GLIDESLOPE DEVIATION  \\\n",
       "0      -0.692778               -4.952854         3065.0               0.01794   \n",
       "1      -0.867216               -5.198349         3065.0               0.01950   \n",
       "2      -1.424093               -4.830105         3065.0               0.01872   \n",
       "3      -1.141912               -4.625526         3065.0               0.01677   \n",
       "4      -0.724660               -4.400490         3065.0               0.01677   \n",
       "..           ...                     ...            ...                   ...   \n",
       "155    -1.466813               -2.436520         3701.0              -0.04017   \n",
       "156    -1.488424               -1.229500         3701.0              -0.08034   \n",
       "157    -1.614193               -2.027359         3701.0              -0.12519   \n",
       "158    -1.529666               -2.047817         3701.0              -0.16380   \n",
       "159    -0.819070               -1.004459         3701.0              -0.14664   \n",
       "\n",
       "     SELECTED HEADING  LOCALIZER DEVIATION  CORE SPEED AVG  \\\n",
       "0           -2.109358             0.006664       70.741180   \n",
       "1           -2.109358             0.007448       70.717750   \n",
       "2           -2.109358             0.009604       70.702760   \n",
       "3           -2.109358             0.009408       70.741590   \n",
       "4           -2.109358             0.009408       70.570450   \n",
       "..                ...                  ...             ...   \n",
       "155         -2.109358            -0.010192       79.387634   \n",
       "156         -2.109358            -0.006664       79.338200   \n",
       "157         -2.109358            -0.003724       79.454490   \n",
       "158         -2.109358            -0.005684       79.324840   \n",
       "159         -2.109358             0.003136       79.679760   \n",
       "\n",
       "     TOTAL PRESSURE LSP  PITCH ANGLE LSP  ROLL ANGLE LSP  RUDDER POSITION  \\\n",
       "0             985.42550        -3.662261        0.785912        -0.390141   \n",
       "1             985.52030        -3.665276        0.046774        -0.756234   \n",
       "2             985.41650        -3.940319        0.804820        -1.325632   \n",
       "3             984.81710        -4.275129        1.077102        -0.326884   \n",
       "4             985.23065        -4.241483        1.654806         0.129545   \n",
       "..                  ...              ...             ...              ...   \n",
       "155          1024.64040        -1.882211       -0.315151        -1.063202   \n",
       "156          1024.79610        -1.309721       -0.224883        -0.209496   \n",
       "157          1024.89700         0.100387        0.674243        -0.894619   \n",
       "158          1024.83230         0.681758        1.592121        -1.356709   \n",
       "159          1025.56470         1.094914        0.962178        -4.275764   \n",
       "\n",
       "     TRUE HEADING LSP  VERTICAL ACCELERATION  WIND SPEED  \n",
       "0           -1.081870               0.972379   12.625183  \n",
       "1           -0.704820               0.770077   11.893839  \n",
       "2           -0.240446               0.543937   12.559112  \n",
       "3           -0.191627               1.062817   10.542998  \n",
       "4           -0.528425               0.867628    9.713539  \n",
       "..                ...                    ...         ...  \n",
       "155          0.573140               0.987543    9.934987  \n",
       "156          0.299006               0.990345    8.879451  \n",
       "157          0.687853               1.082752    9.047807  \n",
       "158          0.513559               1.050346    8.270673  \n",
       "159          0.296197               1.096334    9.127736  \n",
       "\n",
       "[160 rows x 20 columns]"
      ]
     },
     "execution_count": 7,
     "metadata": {},
     "output_type": "execute_result"
    }
   ],
   "source": [
    "pd.DataFrame(flight_data[:1,:160,: ].reshape(160,20), columns= ['AILERON POSITION LH', 'AILERON POSITION RH', 'ANGLE OF ATTACK (CORRECTED)', 'ALTITUDE (BARO CORRECT)', 'COMPUTED AIRSPEED LSP', 'SELECTED COURSE','DRIFT ANGLE' ,'ELEVATOR POSITION LEFT' ,'FLAP POSITION' , 'GLIDESLOPE DEVIATION', 'SELECTED HEADING' , 'LOCALIZER DEVIATION', 'CORE SPEED AVG',  'TOTAL PRESSURE LSP', 'PITCH ANGLE LSP', 'ROLL ANGLE LSP', 'RUDDER POSITION', 'TRUE HEADING LSP', 'VERTICAL ACCELERATION', 'WIND SPEED'])"
   ]
  },
  {
   "cell_type": "markdown",
   "metadata": {},
   "source": [
    "### Description of Data shown above\n",
    "\n",
    "- **Data Snapshot Duration:**\n",
    "  - Collected data over a 160-second duration.\n",
    "  - Captured information from the initial phase of the aircraft's descent, specifically before landing.\n",
    "\n",
    "- **First Plane's Data:**\n",
    "  - The data pertains to the initial aircraft in the landing sequence.\n",
    "  - Information recorded during the critical moments preceding the aircraft's touchdown.\n",
    "\n",
    "\n",
    "\n",
    "| data_instance | flight_record     | departure_airport | departure_runway | arrival_airport | arrival_runway | label |\n",
    "|---------------|-------------------|-------------------|------------------|-----------------|----------------|-------|\n",
    "| 0             | 652200101120916   | KSGF              | 32               | KMEM            | 36L            | 0     |\n"
   ]
  },
  {
   "cell_type": "markdown",
   "metadata": {},
   "source": [
    "# Check the missing values"
   ]
  },
  {
   "cell_type": "code",
   "execution_count": 8,
   "metadata": {},
   "outputs": [
    {
     "name": "stdout",
     "output_type": "stream",
     "text": [
      "0\n"
     ]
    }
   ],
   "source": [
    "\n",
    "missing_values = np.isnan(flight_data)\n",
    "missing_values= missing_values.flatten()\n",
    "# Display the mask of NaN values\n",
    "print(missing_values.sum())"
   ]
  },
  {
   "cell_type": "markdown",
   "metadata": {},
   "source": [
    "### Data Completeness\n",
    "\n",
    "- **Absence of Missing Values:**\n",
    "  - The dataset provided comprises a 160-second window snapshot of approximately 99,000 flights during their final approach, specifically when they are crossing 1,000 ft before touchdown.\n",
    "  - Despite the extensive nature of the dataset, it is noteworthy that there are no missing values present within it.\n",
    "\n",
    "### Implications\n",
    "\n",
    "- **Data Integrity:**\n",
    "  - The absence of missing values indicates that each observation in the dataset contains complete information for all variables.\n",
    "  - This ensures the integrity and reliability of the dataset for analysis and modeling purposes.\n",
    "\n",
    "- **Enhanced Model Performance:**\n",
    "  - Models trained on complete data are likely to exhibit better performance and generalization capabilities compared to models trained on incomplete or imputed data.\n",
    "\n",
    "- **Effective Anomaly Detection:**\n",
    "  - In the context of anomaly detection, the absence of missing values ensures that anomalies are identified based on a comprehensive and uninterrupted dataset, improving the reliability of anomaly detection outcomes.\n",
    "\n"
   ]
  },
  {
   "cell_type": "markdown",
   "metadata": {},
   "source": [
    "# Split the data into train and test"
   ]
  },
  {
   "cell_type": "code",
   "execution_count": 9,
   "metadata": {},
   "outputs": [
    {
     "data": {
      "text/html": [
       "<div>\n",
       "<style scoped>\n",
       "    .dataframe tbody tr th:only-of-type {\n",
       "        vertical-align: middle;\n",
       "    }\n",
       "\n",
       "    .dataframe tbody tr th {\n",
       "        vertical-align: top;\n",
       "    }\n",
       "\n",
       "    .dataframe thead th {\n",
       "        text-align: right;\n",
       "    }\n",
       "</style>\n",
       "<table border=\"1\" class=\"dataframe\">\n",
       "  <thead>\n",
       "    <tr style=\"text-align: right;\">\n",
       "      <th></th>\n",
       "      <th>data_instance</th>\n",
       "    </tr>\n",
       "    <tr>\n",
       "      <th>label</th>\n",
       "      <th></th>\n",
       "    </tr>\n",
       "  </thead>\n",
       "  <tbody>\n",
       "    <tr>\n",
       "      <th>0</th>\n",
       "      <td>89663</td>\n",
       "    </tr>\n",
       "    <tr>\n",
       "      <th>1</th>\n",
       "      <td>7013</td>\n",
       "    </tr>\n",
       "    <tr>\n",
       "      <th>2</th>\n",
       "      <td>2207</td>\n",
       "    </tr>\n",
       "    <tr>\n",
       "      <th>3</th>\n",
       "      <td>954</td>\n",
       "    </tr>\n",
       "  </tbody>\n",
       "</table>\n",
       "</div>"
      ],
      "text/plain": [
       "       data_instance\n",
       "label               \n",
       "0              89663\n",
       "1               7013\n",
       "2               2207\n",
       "3                954"
      ]
     },
     "execution_count": 9,
     "metadata": {},
     "output_type": "execute_result"
    }
   ],
   "source": [
    "x= meta_data.groupby('label').count()\n",
    "pd.DataFrame(x['data_instance'])\n"
   ]
  },
  {
   "cell_type": "code",
   "execution_count": 10,
   "metadata": {},
   "outputs": [],
   "source": [
    "nominal_landings= flight_data[meta_data['label']==0]\n",
    "abnormal_landings= flight_data[meta_data['label']!=0]"
   ]
  },
  {
   "cell_type": "code",
   "execution_count": 11,
   "metadata": {},
   "outputs": [],
   "source": [
    "nominal_landings_test= nominal_landings[len(nominal_landings)-10000+1:]\n",
    "nominal_landings_train_val= nominal_landings[:len(nominal_landings)-10000]"
   ]
  },
  {
   "cell_type": "code",
   "execution_count": 12,
   "metadata": {},
   "outputs": [],
   "source": [
    "test_set = np.concatenate((nominal_landings_test,abnormal_landings),axis=0)\n",
    "test_set_key = np.concatenate(([0]*len(nominal_landings_test),[1]*len(abnormal_landings)),axis=0)"
   ]
  },
  {
   "cell_type": "code",
   "execution_count": 13,
   "metadata": {},
   "outputs": [],
   "source": [
    "np.random.seed(42)\n",
    "\n",
    "train_set, validation_set = train_test_split(nominal_landings_train_val, test_size=0.3)"
   ]
  },
  {
   "cell_type": "markdown",
   "metadata": {},
   "source": [
    "### Optimal Data Split Strategy for Effective Anomaly Detection Model Training and Evaluation\n",
    "\n",
    "### Train-Test Split Strategy\n",
    "\n",
    "#### Data Overview:\n",
    "- The provided data captures a 160-second window snapshot of approximately 99,000 flights during their final approach when crossing 1,000 ft before touchdown.\n",
    "- It encompasses three different anomaly types and one nominal class, highlighting the presence of both normal and anomalous instances within the dataset.\n",
    "\n",
    "#### Imbalanced Class Distribution:\n",
    "- **Data Instance and Class Distribution:**\n",
    "  - The dataset contains a disproportionate number of normal values compared to anomalous instances.\n",
    "  - Class distribution:\n",
    "    - Nominal: 89,663 instances\n",
    "    - Speed High: 7,013 instances\n",
    "    - Path High: 2,207 instances\n",
    "    - Flaps Late Setting: 954 instances\n",
    "\n",
    "#### Train-Test Split Strategy:\n",
    "- **Objective:**\n",
    "  - Ensure a representative portion of both normal and anomalous instances is included in both training and validation sets.\n",
    "  \n",
    "- **Approach:**\n",
    "  - Utilize 79,000 normal instances for training the autoencoder.\n",
    "  - Reserve a total of 10,000 normal instances for validation during model fitting.\n",
    "  - Maintain the integrity of class proportions in both the training and validation datasets.\n",
    "\n",
    "#### Implications:\n",
    "- **Balance and Generalization:**\n",
    "  - By allocating a substantial portion of normal instances for training, the autoencoder can learn the characteristics of normal flight behavior effectively.\n",
    "  - Validation on a separate set of normal instances ensures the model's ability to generalize to unseen normal data.\n",
    "\n",
    "- **Anomaly Detection Performance:**\n",
    "  - Ensuring a representative proportion of anomalies in the training set is crucial for the autoencoder to learn to distinguish between normal and anomalous instances effectively.\n",
    "  - Validation on normal instances helps evaluate the model's ability to detect anomalies while minimizing false positives.\n",
    "\n",
    "#### Considerations:\n",
    "- **Class Importance:**\n",
    "  - The disproportionate class distribution necessitates careful consideration in the train-test split strategy.\n",
    "  - Balancing the representation of all classes ensures that the model does not become biased towards the majority class.\n",
    "\n",
    "- **Validation Set Size:**\n",
    "  - The choice of 10,000 normal instances for validation strikes a balance between having a sufficiently large validation set and preserving an adequate training set size.\n",
    "\n",
    "#### Conclusion:\n",
    "- The train-test split strategy ensures that the autoencoder is trained on a representative dataset while validating its performance on unseen data.\n",
    "- By considering the class distribution and dataset size, the strategy aims to optimize the model's ability to accurately detect anomalies during final approach flights."
   ]
  },
  {
   "cell_type": "markdown",
   "metadata": {},
   "source": [
    "# Data Preprocessing\n",
    "\n",
    "For the dataset obtained from DASHlink, which focuses on multi-class anomaly classification in aviation, the preprocessing steps are straightforward due to the clean and continuous nature of the data. Here are the key points:\n",
    "\n",
    "- **No Missing Values**: The dataset is complete with no missing entries, which simplifies the preprocessing as there is no need for imputation techniques.\n",
    "  \n",
    "- **Continuous Variables**: All the variables in the dataset, such as airspeed, altitude, and angle of attack, are continuous. This eliminates the need for any form of encoding that is typically required for categorical data.\n",
    "  \n",
    "- **Scaling of Data**: The only preprocessing step required is the scaling of data. Since the dataset features, like 'True Heading', 'Pitch Angle', and 'Aileron Position', vary widely in their ranges, scaling is essential to normalize these ranges which helps in the effective performance of machine learning models.\n",
    "  \n",
    "- **No Need for a Pipeline**: Given that the preprocessing is limited to just scaling, the use of a complex pipeline is unnecessary. This simplifies the preprocessing phase, allowing for direct application of scaling methods on the dataset before proceeding with model training.\n",
    "\n",
    "This approach ensures that the data is properly conditioned for any statistical modeling or machine learning algorithms that will be applied, focusing purely on extracting meaningful insights from the clean and well-structured dataset provided."
   ]
  },
  {
   "cell_type": "code",
   "execution_count": 14,
   "metadata": {},
   "outputs": [],
   "source": [
    "x= train_set.shape\n",
    "\n",
    "x_val = validation_set.shape\n",
    "\n",
    "t= test_set.shape\n",
    "\n",
    "#print(x_val[0]*x_val[1],x_val[2])\n"
   ]
  },
  {
   "cell_type": "code",
   "execution_count": 15,
   "metadata": {},
   "outputs": [
    {
     "name": "stdout",
     "output_type": "stream",
     "text": [
      "(20173, 160, 20)\n"
     ]
    }
   ],
   "source": [
    "print(test_set.shape)"
   ]
  },
  {
   "cell_type": "code",
   "execution_count": 16,
   "metadata": {},
   "outputs": [],
   "source": [
    "scaler = StandardScaler()\n",
    "\n",
    "train_set_scaled= scaler.fit_transform(train_set.reshape(x[0]*x[1],x[2])) \n",
    "\n",
    "validation_set_scaled = scaler.transform(validation_set.reshape(x_val[0]*x_val[1],x_val[2]))\n",
    "\n",
    "test_set_scaled = scaler.transform(test_set.reshape(t[0]*t[1],t[2]))"
   ]
  },
  {
   "cell_type": "code",
   "execution_count": 17,
   "metadata": {},
   "outputs": [],
   "source": [
    "train_set1 = train_set_scaled.reshape(x[0],x[1],x[2])\n",
    "validation_set1 = validation_set_scaled.reshape(x_val[0],x_val[1],x_val[2])\n",
    "test_set1 = test_set_scaled.reshape(t[0],t[1],t[2])"
   ]
  },
  {
   "cell_type": "code",
   "execution_count": 18,
   "metadata": {},
   "outputs": [],
   "source": [
    "train_set_flatten = tf.convert_to_tensor(train_set1.reshape(-1,3200))\n",
    "\n",
    "validation_set_flatten = tf.convert_to_tensor(validation_set1.reshape(-1,3200))\n",
    "\n",
    "test_set_flatten = tf.convert_to_tensor(test_set1.reshape(-1,3200))"
   ]
  },
  {
   "cell_type": "code",
   "execution_count": 19,
   "metadata": {},
   "outputs": [
    {
     "name": "stdout",
     "output_type": "stream",
     "text": [
      "tf.Tensor(\n",
      "[[ 1.16121220e-01  5.33582670e-01  3.03246216e-01 ... -3.89681574e-01\n",
      "   3.20285845e-01 -6.73667391e-01]\n",
      " [ 1.10375156e-01  2.90175170e-01 -4.26001726e-01 ... -9.68892120e-01\n",
      "   3.25882076e-01 -1.14264201e+00]\n",
      " [-1.53878370e-01 -5.75656719e-01  1.01605719e+00 ...  4.16234080e-01\n",
      "   3.34577154e-01 -9.76053064e-01]\n",
      " ...\n",
      " [ 3.17183484e-01  2.79744136e-01 -1.43046797e-02 ... -1.23677658e+00\n",
      "   4.65283130e-01 -6.46875378e-01]\n",
      " [-3.69303127e-01 -1.91247103e-03  1.74174708e-01 ... -6.64201885e-01\n",
      "   4.85139270e-01 -1.27998060e+00]\n",
      " [-3.66431218e-01 -2.34888088e-01  2.81338745e+00 ...  8.64509751e-02\n",
      "   2.03365282e-01 -9.42620082e-01]], shape=(55764, 3200), dtype=float64)\n"
     ]
    }
   ],
   "source": [
    "print(train_set_flatten)"
   ]
  },
  {
   "cell_type": "markdown",
   "metadata": {},
   "source": [
    "## Creating the autoencoder model"
   ]
  },
  {
   "cell_type": "code",
   "execution_count": 20,
   "metadata": {},
   "outputs": [
    {
     "data": {
      "text/html": [
       "<pre style=\"white-space:pre;overflow-x:auto;line-height:normal;font-family:Menlo,'DejaVu Sans Mono',consolas,'Courier New',monospace\"><span style=\"font-weight: bold\">Model: \"sequential\"</span>\n",
       "</pre>\n"
      ],
      "text/plain": [
       "\u001b[1mModel: \"sequential\"\u001b[0m\n"
      ]
     },
     "metadata": {},
     "output_type": "display_data"
    },
    {
     "data": {
      "text/html": [
       "<pre style=\"white-space:pre;overflow-x:auto;line-height:normal;font-family:Menlo,'DejaVu Sans Mono',consolas,'Courier New',monospace\">┏━━━━━━━━━━━━━━━━━━━━━━━━━━━━━━━━━━━━━━┳━━━━━━━━━━━━━━━━━━━━━━━━━━━━━┳━━━━━━━━━━━━━━━━━┓\n",
       "┃<span style=\"font-weight: bold\"> Layer (type)                         </span>┃<span style=\"font-weight: bold\"> Output Shape                </span>┃<span style=\"font-weight: bold\">         Param # </span>┃\n",
       "┡━━━━━━━━━━━━━━━━━━━━━━━━━━━━━━━━━━━━━━╇━━━━━━━━━━━━━━━━━━━━━━━━━━━━━╇━━━━━━━━━━━━━━━━━┩\n",
       "│ dense (<span style=\"color: #0087ff; text-decoration-color: #0087ff\">Dense</span>)                        │ (<span style=\"color: #00d7ff; text-decoration-color: #00d7ff\">None</span>, <span style=\"color: #00af00; text-decoration-color: #00af00\">800</span>)                 │       <span style=\"color: #00af00; text-decoration-color: #00af00\">2,560,800</span> │\n",
       "├──────────────────────────────────────┼─────────────────────────────┼─────────────────┤\n",
       "│ dense_1 (<span style=\"color: #0087ff; text-decoration-color: #0087ff\">Dense</span>)                      │ (<span style=\"color: #00d7ff; text-decoration-color: #00d7ff\">None</span>, <span style=\"color: #00af00; text-decoration-color: #00af00\">200</span>)                 │         <span style=\"color: #00af00; text-decoration-color: #00af00\">160,200</span> │\n",
       "├──────────────────────────────────────┼─────────────────────────────┼─────────────────┤\n",
       "│ dense_2 (<span style=\"color: #0087ff; text-decoration-color: #0087ff\">Dense</span>)                      │ (<span style=\"color: #00d7ff; text-decoration-color: #00d7ff\">None</span>, <span style=\"color: #00af00; text-decoration-color: #00af00\">50</span>)                  │          <span style=\"color: #00af00; text-decoration-color: #00af00\">10,050</span> │\n",
       "├──────────────────────────────────────┼─────────────────────────────┼─────────────────┤\n",
       "│ dense_3 (<span style=\"color: #0087ff; text-decoration-color: #0087ff\">Dense</span>)                      │ (<span style=\"color: #00d7ff; text-decoration-color: #00d7ff\">None</span>, <span style=\"color: #00af00; text-decoration-color: #00af00\">12</span>)                  │             <span style=\"color: #00af00; text-decoration-color: #00af00\">612</span> │\n",
       "├──────────────────────────────────────┼─────────────────────────────┼─────────────────┤\n",
       "│ dense_4 (<span style=\"color: #0087ff; text-decoration-color: #0087ff\">Dense</span>)                      │ (<span style=\"color: #00d7ff; text-decoration-color: #00d7ff\">None</span>, <span style=\"color: #00af00; text-decoration-color: #00af00\">6</span>)                   │              <span style=\"color: #00af00; text-decoration-color: #00af00\">78</span> │\n",
       "├──────────────────────────────────────┼─────────────────────────────┼─────────────────┤\n",
       "│ dense_5 (<span style=\"color: #0087ff; text-decoration-color: #0087ff\">Dense</span>)                      │ (<span style=\"color: #00d7ff; text-decoration-color: #00d7ff\">None</span>, <span style=\"color: #00af00; text-decoration-color: #00af00\">12</span>)                  │              <span style=\"color: #00af00; text-decoration-color: #00af00\">84</span> │\n",
       "├──────────────────────────────────────┼─────────────────────────────┼─────────────────┤\n",
       "│ dense_6 (<span style=\"color: #0087ff; text-decoration-color: #0087ff\">Dense</span>)                      │ (<span style=\"color: #00d7ff; text-decoration-color: #00d7ff\">None</span>, <span style=\"color: #00af00; text-decoration-color: #00af00\">50</span>)                  │             <span style=\"color: #00af00; text-decoration-color: #00af00\">650</span> │\n",
       "├──────────────────────────────────────┼─────────────────────────────┼─────────────────┤\n",
       "│ dense_7 (<span style=\"color: #0087ff; text-decoration-color: #0087ff\">Dense</span>)                      │ (<span style=\"color: #00d7ff; text-decoration-color: #00d7ff\">None</span>, <span style=\"color: #00af00; text-decoration-color: #00af00\">200</span>)                 │          <span style=\"color: #00af00; text-decoration-color: #00af00\">10,200</span> │\n",
       "├──────────────────────────────────────┼─────────────────────────────┼─────────────────┤\n",
       "│ dense_8 (<span style=\"color: #0087ff; text-decoration-color: #0087ff\">Dense</span>)                      │ (<span style=\"color: #00d7ff; text-decoration-color: #00d7ff\">None</span>, <span style=\"color: #00af00; text-decoration-color: #00af00\">800</span>)                 │         <span style=\"color: #00af00; text-decoration-color: #00af00\">160,800</span> │\n",
       "├──────────────────────────────────────┼─────────────────────────────┼─────────────────┤\n",
       "│ dense_9 (<span style=\"color: #0087ff; text-decoration-color: #0087ff\">Dense</span>)                      │ (<span style=\"color: #00d7ff; text-decoration-color: #00d7ff\">None</span>, <span style=\"color: #00af00; text-decoration-color: #00af00\">3200</span>)                │       <span style=\"color: #00af00; text-decoration-color: #00af00\">2,563,200</span> │\n",
       "└──────────────────────────────────────┴─────────────────────────────┴─────────────────┘\n",
       "</pre>\n"
      ],
      "text/plain": [
       "┏━━━━━━━━━━━━━━━━━━━━━━━━━━━━━━━━━━━━━━┳━━━━━━━━━━━━━━━━━━━━━━━━━━━━━┳━━━━━━━━━━━━━━━━━┓\n",
       "┃\u001b[1m \u001b[0m\u001b[1mLayer (type)                        \u001b[0m\u001b[1m \u001b[0m┃\u001b[1m \u001b[0m\u001b[1mOutput Shape               \u001b[0m\u001b[1m \u001b[0m┃\u001b[1m \u001b[0m\u001b[1m        Param #\u001b[0m\u001b[1m \u001b[0m┃\n",
       "┡━━━━━━━━━━━━━━━━━━━━━━━━━━━━━━━━━━━━━━╇━━━━━━━━━━━━━━━━━━━━━━━━━━━━━╇━━━━━━━━━━━━━━━━━┩\n",
       "│ dense (\u001b[38;5;33mDense\u001b[0m)                        │ (\u001b[38;5;45mNone\u001b[0m, \u001b[38;5;34m800\u001b[0m)                 │       \u001b[38;5;34m2,560,800\u001b[0m │\n",
       "├──────────────────────────────────────┼─────────────────────────────┼─────────────────┤\n",
       "│ dense_1 (\u001b[38;5;33mDense\u001b[0m)                      │ (\u001b[38;5;45mNone\u001b[0m, \u001b[38;5;34m200\u001b[0m)                 │         \u001b[38;5;34m160,200\u001b[0m │\n",
       "├──────────────────────────────────────┼─────────────────────────────┼─────────────────┤\n",
       "│ dense_2 (\u001b[38;5;33mDense\u001b[0m)                      │ (\u001b[38;5;45mNone\u001b[0m, \u001b[38;5;34m50\u001b[0m)                  │          \u001b[38;5;34m10,050\u001b[0m │\n",
       "├──────────────────────────────────────┼─────────────────────────────┼─────────────────┤\n",
       "│ dense_3 (\u001b[38;5;33mDense\u001b[0m)                      │ (\u001b[38;5;45mNone\u001b[0m, \u001b[38;5;34m12\u001b[0m)                  │             \u001b[38;5;34m612\u001b[0m │\n",
       "├──────────────────────────────────────┼─────────────────────────────┼─────────────────┤\n",
       "│ dense_4 (\u001b[38;5;33mDense\u001b[0m)                      │ (\u001b[38;5;45mNone\u001b[0m, \u001b[38;5;34m6\u001b[0m)                   │              \u001b[38;5;34m78\u001b[0m │\n",
       "├──────────────────────────────────────┼─────────────────────────────┼─────────────────┤\n",
       "│ dense_5 (\u001b[38;5;33mDense\u001b[0m)                      │ (\u001b[38;5;45mNone\u001b[0m, \u001b[38;5;34m12\u001b[0m)                  │              \u001b[38;5;34m84\u001b[0m │\n",
       "├──────────────────────────────────────┼─────────────────────────────┼─────────────────┤\n",
       "│ dense_6 (\u001b[38;5;33mDense\u001b[0m)                      │ (\u001b[38;5;45mNone\u001b[0m, \u001b[38;5;34m50\u001b[0m)                  │             \u001b[38;5;34m650\u001b[0m │\n",
       "├──────────────────────────────────────┼─────────────────────────────┼─────────────────┤\n",
       "│ dense_7 (\u001b[38;5;33mDense\u001b[0m)                      │ (\u001b[38;5;45mNone\u001b[0m, \u001b[38;5;34m200\u001b[0m)                 │          \u001b[38;5;34m10,200\u001b[0m │\n",
       "├──────────────────────────────────────┼─────────────────────────────┼─────────────────┤\n",
       "│ dense_8 (\u001b[38;5;33mDense\u001b[0m)                      │ (\u001b[38;5;45mNone\u001b[0m, \u001b[38;5;34m800\u001b[0m)                 │         \u001b[38;5;34m160,800\u001b[0m │\n",
       "├──────────────────────────────────────┼─────────────────────────────┼─────────────────┤\n",
       "│ dense_9 (\u001b[38;5;33mDense\u001b[0m)                      │ (\u001b[38;5;45mNone\u001b[0m, \u001b[38;5;34m3200\u001b[0m)                │       \u001b[38;5;34m2,563,200\u001b[0m │\n",
       "└──────────────────────────────────────┴─────────────────────────────┴─────────────────┘\n"
      ]
     },
     "metadata": {},
     "output_type": "display_data"
    },
    {
     "data": {
      "text/html": [
       "<pre style=\"white-space:pre;overflow-x:auto;line-height:normal;font-family:Menlo,'DejaVu Sans Mono',consolas,'Courier New',monospace\"><span style=\"font-weight: bold\"> Total params: </span><span style=\"color: #00af00; text-decoration-color: #00af00\">5,466,674</span> (20.85 MB)\n",
       "</pre>\n"
      ],
      "text/plain": [
       "\u001b[1m Total params: \u001b[0m\u001b[38;5;34m5,466,674\u001b[0m (20.85 MB)\n"
      ]
     },
     "metadata": {},
     "output_type": "display_data"
    },
    {
     "data": {
      "text/html": [
       "<pre style=\"white-space:pre;overflow-x:auto;line-height:normal;font-family:Menlo,'DejaVu Sans Mono',consolas,'Courier New',monospace\"><span style=\"font-weight: bold\"> Trainable params: </span><span style=\"color: #00af00; text-decoration-color: #00af00\">5,466,674</span> (20.85 MB)\n",
       "</pre>\n"
      ],
      "text/plain": [
       "\u001b[1m Trainable params: \u001b[0m\u001b[38;5;34m5,466,674\u001b[0m (20.85 MB)\n"
      ]
     },
     "metadata": {},
     "output_type": "display_data"
    },
    {
     "data": {
      "text/html": [
       "<pre style=\"white-space:pre;overflow-x:auto;line-height:normal;font-family:Menlo,'DejaVu Sans Mono',consolas,'Courier New',monospace\"><span style=\"font-weight: bold\"> Non-trainable params: </span><span style=\"color: #00af00; text-decoration-color: #00af00\">0</span> (0.00 B)\n",
       "</pre>\n"
      ],
      "text/plain": [
       "\u001b[1m Non-trainable params: \u001b[0m\u001b[38;5;34m0\u001b[0m (0.00 B)\n"
      ]
     },
     "metadata": {},
     "output_type": "display_data"
    }
   ],
   "source": [
    "\n",
    "\n",
    "input_dim = 160*20\n",
    "latent_vec_len = 6 # this is the 'bottleneck' of the autoencoder\n",
    "\n",
    "# Define the autoencoder architecture\n",
    "# build the encoder\n",
    "autoencoder = Sequential()\n",
    "autoencoder.add(Input(shape=(input_dim,)))\n",
    "autoencoder.add(Dense(800, activation='relu'))\n",
    "autoencoder.add(Dense(200, activation='relu'))\n",
    "autoencoder.add(Dense(50, activation='relu'))\n",
    "autoencoder.add(Dense(12, activation='relu'))\n",
    "\n",
    "# the bottleneck layer\n",
    "autoencoder.add(Dense(latent_vec_len, activation='relu'))\n",
    "\n",
    "# the decoder layer\n",
    "autoencoder.add(Dense(12, activation='relu'))\n",
    "autoencoder.add(Dense(50, activation='relu'))\n",
    "autoencoder.add(Dense(200, activation='relu'))\n",
    "autoencoder.add(Dense(800, activation='relu'))\n",
    "autoencoder.add(Dense(input_dim, activation=None))\n",
    "\n",
    "# NOTE: The output layer of a Keras autoencoder includes a sigmoid activation function\n",
    "# because it forces the output to be in the range. This is done to ensure that the \n",
    "# output can be interpreted as a probability or a pixel intensity of a grayscale image.\n",
    "\n",
    "# Compile the autoencoder model\n",
    "autoencoder.compile(loss='mean_squared_error', optimizer='adam')\n",
    "\n",
    "# Get summary\n",
    "autoencoder.summary()"
   ]
  },
  {
   "cell_type": "code",
   "execution_count": 21,
   "metadata": {},
   "outputs": [
    {
     "name": "stdout",
     "output_type": "stream",
     "text": [
      "Epoch 1/100\n",
      "\u001b[1m436/436\u001b[0m \u001b[32m━━━━━━━━━━━━━━━━━━━━\u001b[0m\u001b[37m\u001b[0m \u001b[1m42s\u001b[0m 71ms/step - loss: 0.6246 - val_loss: 0.4347\n",
      "Epoch 2/100\n",
      "\u001b[1m436/436\u001b[0m \u001b[32m━━━━━━━━━━━━━━━━━━━━\u001b[0m\u001b[37m\u001b[0m \u001b[1m32s\u001b[0m 74ms/step - loss: 0.4206 - val_loss: 0.3944\n",
      "Epoch 3/100\n",
      "\u001b[1m436/436\u001b[0m \u001b[32m━━━━━━━━━━━━━━━━━━━━\u001b[0m\u001b[37m\u001b[0m \u001b[1m31s\u001b[0m 70ms/step - loss: 0.3828 - val_loss: 0.3718\n",
      "Epoch 4/100\n",
      "\u001b[1m436/436\u001b[0m \u001b[32m━━━━━━━━━━━━━━━━━━━━\u001b[0m\u001b[37m\u001b[0m \u001b[1m31s\u001b[0m 72ms/step - loss: 0.3590 - val_loss: 0.3577\n",
      "Epoch 5/100\n",
      "\u001b[1m436/436\u001b[0m \u001b[32m━━━━━━━━━━━━━━━━━━━━\u001b[0m\u001b[37m\u001b[0m \u001b[1m30s\u001b[0m 69ms/step - loss: 0.3481 - val_loss: 0.3547\n",
      "Epoch 6/100\n",
      "\u001b[1m436/436\u001b[0m \u001b[32m━━━━━━━━━━━━━━━━━━━━\u001b[0m\u001b[37m\u001b[0m \u001b[1m32s\u001b[0m 73ms/step - loss: 0.3431 - val_loss: 0.3371\n",
      "Epoch 7/100\n",
      "\u001b[1m436/436\u001b[0m \u001b[32m━━━━━━━━━━━━━━━━━━━━\u001b[0m\u001b[37m\u001b[0m \u001b[1m33s\u001b[0m 75ms/step - loss: 0.3290 - val_loss: 0.3299\n",
      "Epoch 8/100\n",
      "\u001b[1m436/436\u001b[0m \u001b[32m━━━━━━━━━━━━━━━━━━━━\u001b[0m\u001b[37m\u001b[0m \u001b[1m33s\u001b[0m 76ms/step - loss: 0.3215 - val_loss: 0.3265\n",
      "Epoch 9/100\n",
      "\u001b[1m436/436\u001b[0m \u001b[32m━━━━━━━━━━━━━━━━━━━━\u001b[0m\u001b[37m\u001b[0m \u001b[1m32s\u001b[0m 74ms/step - loss: 0.3165 - val_loss: 0.3255\n",
      "Epoch 10/100\n",
      "\u001b[1m436/436\u001b[0m \u001b[32m━━━━━━━━━━━━━━━━━━━━\u001b[0m\u001b[37m\u001b[0m \u001b[1m31s\u001b[0m 71ms/step - loss: 0.3147 - val_loss: 0.3234\n",
      "Epoch 11/100\n",
      "\u001b[1m436/436\u001b[0m \u001b[32m━━━━━━━━━━━━━━━━━━━━\u001b[0m\u001b[37m\u001b[0m \u001b[1m32s\u001b[0m 73ms/step - loss: 0.3104 - val_loss: 0.3193\n",
      "Epoch 12/100\n",
      "\u001b[1m436/436\u001b[0m \u001b[32m━━━━━━━━━━━━━━━━━━━━\u001b[0m\u001b[37m\u001b[0m \u001b[1m32s\u001b[0m 72ms/step - loss: 0.3092 - val_loss: 0.3169\n",
      "Epoch 13/100\n",
      "\u001b[1m436/436\u001b[0m \u001b[32m━━━━━━━━━━━━━━━━━━━━\u001b[0m\u001b[37m\u001b[0m \u001b[1m30s\u001b[0m 69ms/step - loss: 0.3065 - val_loss: 0.3260\n",
      "Epoch 14/100\n",
      "\u001b[1m436/436\u001b[0m \u001b[32m━━━━━━━━━━━━━━━━━━━━\u001b[0m\u001b[37m\u001b[0m \u001b[1m32s\u001b[0m 73ms/step - loss: 0.3186 - val_loss: 0.3151\n",
      "Epoch 15/100\n",
      "\u001b[1m436/436\u001b[0m \u001b[32m━━━━━━━━━━━━━━━━━━━━\u001b[0m\u001b[37m\u001b[0m \u001b[1m31s\u001b[0m 70ms/step - loss: 0.3042 - val_loss: 0.3115\n",
      "Epoch 16/100\n",
      "\u001b[1m436/436\u001b[0m \u001b[32m━━━━━━━━━━━━━━━━━━━━\u001b[0m\u001b[37m\u001b[0m \u001b[1m31s\u001b[0m 71ms/step - loss: 0.2980 - val_loss: 0.3149\n",
      "Epoch 17/100\n",
      "\u001b[1m436/436\u001b[0m \u001b[32m━━━━━━━━━━━━━━━━━━━━\u001b[0m\u001b[37m\u001b[0m \u001b[1m31s\u001b[0m 72ms/step - loss: 0.3025 - val_loss: 0.3108\n",
      "Epoch 18/100\n",
      "\u001b[1m436/436\u001b[0m \u001b[32m━━━━━━━━━━━━━━━━━━━━\u001b[0m\u001b[37m\u001b[0m \u001b[1m42s\u001b[0m 96ms/step - loss: 0.2956 - val_loss: 0.3115\n",
      "Epoch 19/100\n",
      "\u001b[1m436/436\u001b[0m \u001b[32m━━━━━━━━━━━━━━━━━━━━\u001b[0m\u001b[37m\u001b[0m \u001b[1m36s\u001b[0m 82ms/step - loss: 0.2952 - val_loss: 0.3097\n",
      "Epoch 20/100\n",
      "\u001b[1m436/436\u001b[0m \u001b[32m━━━━━━━━━━━━━━━━━━━━\u001b[0m\u001b[37m\u001b[0m \u001b[1m32s\u001b[0m 72ms/step - loss: 0.2932 - val_loss: 0.3087\n",
      "Epoch 21/100\n",
      "\u001b[1m436/436\u001b[0m \u001b[32m━━━━━━━━━━━━━━━━━━━━\u001b[0m\u001b[37m\u001b[0m \u001b[1m36s\u001b[0m 82ms/step - loss: 0.2905 - val_loss: 0.3108\n",
      "Epoch 22/100\n",
      "\u001b[1m436/436\u001b[0m \u001b[32m━━━━━━━━━━━━━━━━━━━━\u001b[0m\u001b[37m\u001b[0m \u001b[1m37s\u001b[0m 84ms/step - loss: 0.2939 - val_loss: 0.3111\n",
      "Epoch 23/100\n",
      "\u001b[1m436/436\u001b[0m \u001b[32m━━━━━━━━━━━━━━━━━━━━\u001b[0m\u001b[37m\u001b[0m \u001b[1m43s\u001b[0m 98ms/step - loss: 0.2925 - val_loss: 0.3067\n",
      "Epoch 24/100\n",
      "\u001b[1m436/436\u001b[0m \u001b[32m━━━━━━━━━━━━━━━━━━━━\u001b[0m\u001b[37m\u001b[0m \u001b[1m35s\u001b[0m 81ms/step - loss: 0.2867 - val_loss: 0.3066\n",
      "Epoch 25/100\n",
      "\u001b[1m436/436\u001b[0m \u001b[32m━━━━━━━━━━━━━━━━━━━━\u001b[0m\u001b[37m\u001b[0m \u001b[1m38s\u001b[0m 86ms/step - loss: 0.2880 - val_loss: 0.3041\n",
      "Epoch 26/100\n",
      "\u001b[1m436/436\u001b[0m \u001b[32m━━━━━━━━━━━━━━━━━━━━\u001b[0m\u001b[37m\u001b[0m \u001b[1m49s\u001b[0m 104ms/step - loss: 0.2868 - val_loss: 0.3084\n",
      "Epoch 27/100\n",
      "\u001b[1m436/436\u001b[0m \u001b[32m━━━━━━━━━━━━━━━━━━━━\u001b[0m\u001b[37m\u001b[0m \u001b[1m39s\u001b[0m 90ms/step - loss: 0.2866 - val_loss: 0.3050\n",
      "Epoch 28/100\n",
      "\u001b[1m436/436\u001b[0m \u001b[32m━━━━━━━━━━━━━━━━━━━━\u001b[0m\u001b[37m\u001b[0m \u001b[1m34s\u001b[0m 77ms/step - loss: 0.2828 - val_loss: 0.3037\n",
      "Epoch 29/100\n",
      "\u001b[1m436/436\u001b[0m \u001b[32m━━━━━━━━━━━━━━━━━━━━\u001b[0m\u001b[37m\u001b[0m \u001b[1m37s\u001b[0m 85ms/step - loss: 0.2828 - val_loss: 0.3128\n",
      "Epoch 30/100\n",
      "\u001b[1m436/436\u001b[0m \u001b[32m━━━━━━━━━━━━━━━━━━━━\u001b[0m\u001b[37m\u001b[0m \u001b[1m37s\u001b[0m 74ms/step - loss: 0.2854 - val_loss: 0.3060\n",
      "Epoch 31/100\n",
      "\u001b[1m436/436\u001b[0m \u001b[32m━━━━━━━━━━━━━━━━━━━━\u001b[0m\u001b[37m\u001b[0m \u001b[1m32s\u001b[0m 73ms/step - loss: 0.2837 - val_loss: 0.3032\n",
      "Epoch 32/100\n",
      "\u001b[1m436/436\u001b[0m \u001b[32m━━━━━━━━━━━━━━━━━━━━\u001b[0m\u001b[37m\u001b[0m \u001b[1m33s\u001b[0m 75ms/step - loss: 0.2808 - val_loss: 0.3087\n",
      "Epoch 33/100\n",
      "\u001b[1m436/436\u001b[0m \u001b[32m━━━━━━━━━━━━━━━━━━━━\u001b[0m\u001b[37m\u001b[0m \u001b[1m32s\u001b[0m 73ms/step - loss: 0.2834 - val_loss: 0.3010\n",
      "Epoch 34/100\n",
      "\u001b[1m436/436\u001b[0m \u001b[32m━━━━━━━━━━━━━━━━━━━━\u001b[0m\u001b[37m\u001b[0m \u001b[1m35s\u001b[0m 79ms/step - loss: 0.2805 - val_loss: 0.3046\n",
      "Epoch 35/100\n",
      "\u001b[1m436/436\u001b[0m \u001b[32m━━━━━━━━━━━━━━━━━━━━\u001b[0m\u001b[37m\u001b[0m \u001b[1m33s\u001b[0m 75ms/step - loss: 0.2782 - val_loss: 0.3040\n",
      "Epoch 36/100\n",
      "\u001b[1m436/436\u001b[0m \u001b[32m━━━━━━━━━━━━━━━━━━━━\u001b[0m\u001b[37m\u001b[0m \u001b[1m37s\u001b[0m 84ms/step - loss: 0.2791 - val_loss: 0.3016\n",
      "Epoch 37/100\n",
      "\u001b[1m436/436\u001b[0m \u001b[32m━━━━━━━━━━━━━━━━━━━━\u001b[0m\u001b[37m\u001b[0m \u001b[1m33s\u001b[0m 75ms/step - loss: 0.2794 - val_loss: 0.3035\n",
      "Epoch 38/100\n",
      "\u001b[1m436/436\u001b[0m \u001b[32m━━━━━━━━━━━━━━━━━━━━\u001b[0m\u001b[37m\u001b[0m \u001b[1m33s\u001b[0m 77ms/step - loss: 0.2765 - val_loss: 0.3040\n",
      "Epoch 39/100\n",
      "\u001b[1m436/436\u001b[0m \u001b[32m━━━━━━━━━━━━━━━━━━━━\u001b[0m\u001b[37m\u001b[0m \u001b[1m32s\u001b[0m 74ms/step - loss: 0.2833 - val_loss: 0.3015\n",
      "Epoch 40/100\n",
      "\u001b[1m436/436\u001b[0m \u001b[32m━━━━━━━━━━━━━━━━━━━━\u001b[0m\u001b[37m\u001b[0m \u001b[1m33s\u001b[0m 76ms/step - loss: 0.2768 - val_loss: 0.3017\n",
      "Epoch 41/100\n",
      "\u001b[1m436/436\u001b[0m \u001b[32m━━━━━━━━━━━━━━━━━━━━\u001b[0m\u001b[37m\u001b[0m \u001b[1m32s\u001b[0m 74ms/step - loss: 0.2771 - val_loss: 0.2997\n",
      "Epoch 42/100\n",
      "\u001b[1m436/436\u001b[0m \u001b[32m━━━━━━━━━━━━━━━━━━━━\u001b[0m\u001b[37m\u001b[0m \u001b[1m33s\u001b[0m 77ms/step - loss: 0.2748 - val_loss: 0.3009\n",
      "Epoch 43/100\n",
      "\u001b[1m436/436\u001b[0m \u001b[32m━━━━━━━━━━━━━━━━━━━━\u001b[0m\u001b[37m\u001b[0m \u001b[1m33s\u001b[0m 76ms/step - loss: 0.2757 - val_loss: 0.3009\n",
      "Epoch 44/100\n",
      "\u001b[1m436/436\u001b[0m \u001b[32m━━━━━━━━━━━━━━━━━━━━\u001b[0m\u001b[37m\u001b[0m \u001b[1m41s\u001b[0m 75ms/step - loss: 0.2736 - val_loss: 0.3021\n",
      "Epoch 45/100\n",
      "\u001b[1m436/436\u001b[0m \u001b[32m━━━━━━━━━━━━━━━━━━━━\u001b[0m\u001b[37m\u001b[0m \u001b[1m34s\u001b[0m 77ms/step - loss: 0.2752 - val_loss: 0.3003\n",
      "Epoch 46/100\n",
      "\u001b[1m436/436\u001b[0m \u001b[32m━━━━━━━━━━━━━━━━━━━━\u001b[0m\u001b[37m\u001b[0m \u001b[1m33s\u001b[0m 76ms/step - loss: 0.2731 - val_loss: 0.3008\n",
      "Epoch 47/100\n",
      "\u001b[1m436/436\u001b[0m \u001b[32m━━━━━━━━━━━━━━━━━━━━\u001b[0m\u001b[37m\u001b[0m \u001b[1m32s\u001b[0m 73ms/step - loss: 0.2721 - val_loss: 0.3047\n",
      "Epoch 48/100\n",
      "\u001b[1m436/436\u001b[0m \u001b[32m━━━━━━━━━━━━━━━━━━━━\u001b[0m\u001b[37m\u001b[0m \u001b[1m32s\u001b[0m 74ms/step - loss: 0.2772 - val_loss: 0.3004\n",
      "Epoch 49/100\n",
      "\u001b[1m436/436\u001b[0m \u001b[32m━━━━━━━━━━━━━━━━━━━━\u001b[0m\u001b[37m\u001b[0m \u001b[1m36s\u001b[0m 82ms/step - loss: 0.2709 - val_loss: 0.3003\n",
      "Epoch 50/100\n",
      "\u001b[1m436/436\u001b[0m \u001b[32m━━━━━━━━━━━━━━━━━━━━\u001b[0m\u001b[37m\u001b[0m \u001b[1m38s\u001b[0m 86ms/step - loss: 0.2714 - val_loss: 0.2999\n",
      "Epoch 51/100\n",
      "\u001b[1m436/436\u001b[0m \u001b[32m━━━━━━━━━━━━━━━━━━━━\u001b[0m\u001b[37m\u001b[0m \u001b[1m34s\u001b[0m 78ms/step - loss: 0.2720 - val_loss: 0.3042\n",
      "Epoch 52/100\n",
      "\u001b[1m436/436\u001b[0m \u001b[32m━━━━━━━━━━━━━━━━━━━━\u001b[0m\u001b[37m\u001b[0m \u001b[1m33s\u001b[0m 76ms/step - loss: 0.2736 - val_loss: 0.2999\n",
      "Epoch 53/100\n",
      "\u001b[1m436/436\u001b[0m \u001b[32m━━━━━━━━━━━━━━━━━━━━\u001b[0m\u001b[37m\u001b[0m \u001b[1m30s\u001b[0m 69ms/step - loss: 0.2705 - val_loss: 0.2993\n",
      "Epoch 54/100\n",
      "\u001b[1m436/436\u001b[0m \u001b[32m━━━━━━━━━━━━━━━━━━━━\u001b[0m\u001b[37m\u001b[0m \u001b[1m31s\u001b[0m 71ms/step - loss: 0.2688 - val_loss: 0.3006\n",
      "Epoch 55/100\n",
      "\u001b[1m436/436\u001b[0m \u001b[32m━━━━━━━━━━━━━━━━━━━━\u001b[0m\u001b[37m\u001b[0m \u001b[1m30s\u001b[0m 68ms/step - loss: 0.2724 - val_loss: 0.3016\n",
      "Epoch 56/100\n",
      "\u001b[1m436/436\u001b[0m \u001b[32m━━━━━━━━━━━━━━━━━━━━\u001b[0m\u001b[37m\u001b[0m \u001b[1m34s\u001b[0m 77ms/step - loss: 0.2724 - val_loss: 0.3001\n",
      "Epoch 57/100\n",
      "\u001b[1m436/436\u001b[0m \u001b[32m━━━━━━━━━━━━━━━━━━━━\u001b[0m\u001b[37m\u001b[0m \u001b[1m32s\u001b[0m 74ms/step - loss: 0.2687 - val_loss: 0.2991\n",
      "Epoch 58/100\n",
      "\u001b[1m436/436\u001b[0m \u001b[32m━━━━━━━━━━━━━━━━━━━━\u001b[0m\u001b[37m\u001b[0m \u001b[1m31s\u001b[0m 71ms/step - loss: 0.2687 - val_loss: 0.2990\n",
      "Epoch 59/100\n",
      "\u001b[1m436/436\u001b[0m \u001b[32m━━━━━━━━━━━━━━━━━━━━\u001b[0m\u001b[37m\u001b[0m \u001b[1m35s\u001b[0m 79ms/step - loss: 0.2665 - val_loss: 0.2999\n",
      "Epoch 60/100\n",
      "\u001b[1m436/436\u001b[0m \u001b[32m━━━━━━━━━━━━━━━━━━━━\u001b[0m\u001b[37m\u001b[0m \u001b[1m37s\u001b[0m 84ms/step - loss: 0.2678 - val_loss: 0.2992\n",
      "Epoch 61/100\n",
      "\u001b[1m436/436\u001b[0m \u001b[32m━━━━━━━━━━━━━━━━━━━━\u001b[0m\u001b[37m\u001b[0m \u001b[1m36s\u001b[0m 84ms/step - loss: 0.2682 - val_loss: 0.3017\n",
      "Epoch 62/100\n",
      "\u001b[1m436/436\u001b[0m \u001b[32m━━━━━━━━━━━━━━━━━━━━\u001b[0m\u001b[37m\u001b[0m \u001b[1m32s\u001b[0m 74ms/step - loss: 0.2678 - val_loss: 0.2991\n",
      "Epoch 63/100\n",
      "\u001b[1m436/436\u001b[0m \u001b[32m━━━━━━━━━━━━━━━━━━━━\u001b[0m\u001b[37m\u001b[0m \u001b[1m32s\u001b[0m 74ms/step - loss: 0.2673 - val_loss: 0.2989\n",
      "Epoch 64/100\n",
      "\u001b[1m436/436\u001b[0m \u001b[32m━━━━━━━━━━━━━━━━━━━━\u001b[0m\u001b[37m\u001b[0m \u001b[1m33s\u001b[0m 75ms/step - loss: 0.2654 - val_loss: 0.2987\n",
      "Epoch 65/100\n",
      "\u001b[1m436/436\u001b[0m \u001b[32m━━━━━━━━━━━━━━━━━━━━\u001b[0m\u001b[37m\u001b[0m \u001b[1m33s\u001b[0m 76ms/step - loss: 0.2684 - val_loss: 0.3010\n",
      "Epoch 66/100\n",
      "\u001b[1m436/436\u001b[0m \u001b[32m━━━━━━━━━━━━━━━━━━━━\u001b[0m\u001b[37m\u001b[0m \u001b[1m34s\u001b[0m 79ms/step - loss: 0.2676 - val_loss: 0.3005\n",
      "Epoch 67/100\n"
     ]
    },
    {
     "name": "stdout",
     "output_type": "stream",
     "text": [
      "\u001b[1m436/436\u001b[0m \u001b[32m━━━━━━━━━━━━━━━━━━━━\u001b[0m\u001b[37m\u001b[0m \u001b[1m33s\u001b[0m 76ms/step - loss: 0.2663 - val_loss: 0.3002\n",
      "Epoch 68/100\n",
      "\u001b[1m436/436\u001b[0m \u001b[32m━━━━━━━━━━━━━━━━━━━━\u001b[0m\u001b[37m\u001b[0m \u001b[1m32s\u001b[0m 73ms/step - loss: 0.2654 - val_loss: 0.2998\n",
      "Epoch 69/100\n",
      "\u001b[1m436/436\u001b[0m \u001b[32m━━━━━━━━━━━━━━━━━━━━\u001b[0m\u001b[37m\u001b[0m \u001b[1m40s\u001b[0m 93ms/step - loss: 0.2645 - val_loss: 0.2997\n",
      "Epoch 70/100\n",
      "\u001b[1m436/436\u001b[0m \u001b[32m━━━━━━━━━━━━━━━━━━━━\u001b[0m\u001b[37m\u001b[0m \u001b[1m53s\u001b[0m 121ms/step - loss: 0.2651 - val_loss: 0.3007\n",
      "Epoch 71/100\n",
      "\u001b[1m436/436\u001b[0m \u001b[32m━━━━━━━━━━━━━━━━━━━━\u001b[0m\u001b[37m\u001b[0m \u001b[1m36s\u001b[0m 83ms/step - loss: 0.2625 - val_loss: 0.3014\n",
      "Epoch 72/100\n",
      "\u001b[1m436/436\u001b[0m \u001b[32m━━━━━━━━━━━━━━━━━━━━\u001b[0m\u001b[37m\u001b[0m \u001b[1m39s\u001b[0m 89ms/step - loss: 0.2655 - val_loss: 0.2985\n",
      "Epoch 73/100\n",
      "\u001b[1m436/436\u001b[0m \u001b[32m━━━━━━━━━━━━━━━━━━━━\u001b[0m\u001b[37m\u001b[0m \u001b[1m41s\u001b[0m 93ms/step - loss: 0.2640 - val_loss: 0.2999\n",
      "Epoch 74/100\n",
      "\u001b[1m436/436\u001b[0m \u001b[32m━━━━━━━━━━━━━━━━━━━━\u001b[0m\u001b[37m\u001b[0m \u001b[1m36s\u001b[0m 83ms/step - loss: 0.2675 - val_loss: 0.3013\n",
      "Epoch 75/100\n",
      "\u001b[1m436/436\u001b[0m \u001b[32m━━━━━━━━━━━━━━━━━━━━\u001b[0m\u001b[37m\u001b[0m \u001b[1m32s\u001b[0m 73ms/step - loss: 0.2637 - val_loss: 0.2997\n",
      "Epoch 76/100\n",
      "\u001b[1m436/436\u001b[0m \u001b[32m━━━━━━━━━━━━━━━━━━━━\u001b[0m\u001b[37m\u001b[0m \u001b[1m31s\u001b[0m 71ms/step - loss: 0.2632 - val_loss: 0.3003\n",
      "Epoch 77/100\n",
      "\u001b[1m436/436\u001b[0m \u001b[32m━━━━━━━━━━━━━━━━━━━━\u001b[0m\u001b[37m\u001b[0m \u001b[1m32s\u001b[0m 72ms/step - loss: 0.2631 - val_loss: 0.2992\n",
      "Epoch 78/100\n",
      "\u001b[1m436/436\u001b[0m \u001b[32m━━━━━━━━━━━━━━━━━━━━\u001b[0m\u001b[37m\u001b[0m \u001b[1m33s\u001b[0m 75ms/step - loss: 0.2623 - val_loss: 0.2999\n",
      "Epoch 79/100\n",
      "\u001b[1m436/436\u001b[0m \u001b[32m━━━━━━━━━━━━━━━━━━━━\u001b[0m\u001b[37m\u001b[0m \u001b[1m31s\u001b[0m 71ms/step - loss: 0.2629 - val_loss: 0.3000\n",
      "Epoch 80/100\n",
      "\u001b[1m436/436\u001b[0m \u001b[32m━━━━━━━━━━━━━━━━━━━━\u001b[0m\u001b[37m\u001b[0m \u001b[1m33s\u001b[0m 76ms/step - loss: 0.2626 - val_loss: 0.3001\n",
      "Epoch 81/100\n",
      "\u001b[1m436/436\u001b[0m \u001b[32m━━━━━━━━━━━━━━━━━━━━\u001b[0m\u001b[37m\u001b[0m \u001b[1m33s\u001b[0m 75ms/step - loss: 0.2624 - val_loss: 0.2992\n",
      "Epoch 82/100\n",
      "\u001b[1m436/436\u001b[0m \u001b[32m━━━━━━━━━━━━━━━━━━━━\u001b[0m\u001b[37m\u001b[0m \u001b[1m31s\u001b[0m 71ms/step - loss: 0.2621 - val_loss: 0.3053\n",
      "Epoch 83/100\n",
      "\u001b[1m436/436\u001b[0m \u001b[32m━━━━━━━━━━━━━━━━━━━━\u001b[0m\u001b[37m\u001b[0m \u001b[1m34s\u001b[0m 77ms/step - loss: 0.2647 - val_loss: 0.3015\n",
      "Epoch 84/100\n",
      "\u001b[1m436/436\u001b[0m \u001b[32m━━━━━━━━━━━━━━━━━━━━\u001b[0m\u001b[37m\u001b[0m \u001b[1m44s\u001b[0m 83ms/step - loss: 0.2615 - val_loss: 0.2999\n",
      "Epoch 84: early stopping\n"
     ]
    }
   ],
   "source": [
    "from tensorflow.keras.callbacks import EarlyStopping # EarlyStopping during model training\n",
    "\n",
    "\n",
    "# Train the autoencoder with MNIST data\n",
    "early_stop = EarlyStopping(monitor='loss', patience=3, verbose=1)\n",
    "history = autoencoder.fit(\n",
    "    x=train_set_flatten, # For autoencoders, both the input and the target are the same\n",
    "    y=train_set_flatten, \n",
    "    epochs=100, \n",
    "    batch_size=128,\n",
    "    shuffle=True, \n",
    "    validation_data=(validation_set_flatten, validation_set_flatten),\n",
    "    callbacks=[early_stop]\n",
    ")"
   ]
  },
  {
   "cell_type": "markdown",
   "metadata": {},
   "source": [
    "# Plot training and validation loss scores against the number of epochs."
   ]
  },
  {
   "cell_type": "code",
   "execution_count": 42,
   "metadata": {
    "scrolled": true
   },
   "outputs": [
    {
     "data": {
      "text/plain": [
       "<matplotlib.legend.Legend at 0x1df8729a650>"
      ]
     },
     "execution_count": 42,
     "metadata": {},
     "output_type": "execute_result"
    },
    {
     "data": {
      "image/png": "[encoded data removed]",
      "text/plain": [
       "<Figure size 640x480 with 1 Axes>"
      ]
     },
     "metadata": {},
     "output_type": "display_data"
    }
   ],
   "source": [
    "# Plot training and validation loss scores\n",
    "# against the number of epochs.\n",
    "import matplotlib.pyplot as plt\n",
    "plt.plot(history.history['loss'], label='Train')\n",
    "plt.plot(history.history['val_loss'], label='Validation')\n",
    "plt.ylabel('mean  Loss')\n",
    "plt.xlabel('Epoch')\n",
    "plt.title('Autoencoder Reconstruction Loss', pad=13)\n",
    "plt.legend(loc='upper right')"
   ]
  },
  {
   "cell_type": "code",
   "execution_count": null,
   "metadata": {},
   "outputs": [],
   "source": []
  },
  {
   "cell_type": "markdown",
   "metadata": {},
   "source": [
    "### Analysis of Loss Graph\n",
    "\n",
    "#### Graphical Representation\n",
    "- The provided data consists of loss values for both training and validation sets across multiple epochs.\n",
    "- The loss values are plotted against the number of epochs, providing insight into the model's performance over time.\n",
    "\n",
    "#### Interpretation\n",
    "- **Training Loss:**\n",
    "  - Shows a decreasing trend over epochs, indicating that the model is learning and minimizing its error on the training data.\n",
    "  - Initially starts at a higher value and gradually decreases as the model iteratively improves its performance.\n",
    "\n",
    "- **Validation Loss:**\n",
    "  - Also exhibits a decreasing trend, reflecting the model's ability to generalize to unseen data.\n",
    "  - Generally follows the trend of the training loss, albeit with some fluctuations.\n",
    "\n",
    "#### Implications\n",
    "- **Model Training:**\n",
    "  - The decreasing training and validation loss suggests that the model is effectively learning from the data and improving its performance over time.\n",
    "  - Consistent decrease in loss indicates successful convergence of the model during training.\n",
    "\n",
    "- **Overfitting Consideration:**\n",
    "  - Close alignment between training and validation loss curves suggests that overfitting is relatively well-controlled.\n",
    "  - Fluctuations in the validation loss may indicate occasional overfitting episodes or model instability, warranting further investigation.\n",
    "\n",
    "#### Train-Test Split Strategy\n",
    "- **Validation Set Usage:**\n",
    "  - Validation loss serves as a proxy for evaluating model performance on unseen data, thereby guiding model selection and hyperparameter tuning decisions.\n",
    "  - The consistency between training and validation loss curves suggests that the train-test split strategy effectively balances model training and evaluation.\n",
    "\n",
    "- **Generalization:**\n",
    "  - The decreasing validation loss indicates that the model is generalizing well to unseen data, validating its ability to make accurate predictions beyond the training set.\n",
    "  - This implies that the selected train-test split strategy adequately captures the underlying data distribution, facilitating robust model evaluation.\n",
    "\n",
    "### Conclusion\n",
    "- The loss graph provides valuable insights into the training dynamics and performance of the model.\n",
    "- Consistent decrease in both training and validation loss signifies successful model convergence and generalization.\n",
    "- The train-test split strategy appears effective in training and evaluating the model, contributing to its overall reliability and performance."
   ]
  },
  {
   "cell_type": "markdown",
   "metadata": {},
   "source": [
    "# Determining the error threshold "
   ]
  },
  {
   "cell_type": "markdown",
   "metadata": {},
   "source": [
    "we first plan to calaculate and vizuvalize the error for the entire train set i.e a combination of validation and test data"
   ]
  },
  {
   "cell_type": "code",
   "execution_count": 23,
   "metadata": {},
   "outputs": [],
   "source": [
    "#autoencoder1 = keras.models.load_model('fully_trained_autoencoder.h5')"
   ]
  },
  {
   "cell_type": "markdown",
   "metadata": {},
   "source": [
    "## Visualizing Mean Reconstruction Error"
   ]
  },
  {
   "cell_type": "markdown",
   "metadata": {},
   "source": [
    "- **Calculation and Purpose:**\n",
    "  - Computed the mean reconstruction error across all 20 variables for each of the 160 snapshots of flight data.\n",
    "  - Purpose: Condensing the multidimensional error information into a single metric per snapshot simplifies further analysis and provides an overall understanding of model performance.\n",
    "\n",
    "- **Reasoning:**\n",
    "  - Aggregating errors into a mean value allows for easier interpretation and comparison across snapshots.\n",
    "  - Helps in identifying patterns or anomalies that might not be apparent when considering individual error values for each variable separately.\n",
    "\n",
    "- **Potential Future Alternatives:**\n",
    "  - Instead of mean error, median error could be calculated to mitigate the influence of outliers.\n",
    "  - Weighted mean error, considering the importance of each variable, could provide a more nuanced understanding of reconstruction quality."
   ]
  },
  {
   "cell_type": "code",
   "execution_count": 24,
   "metadata": {},
   "outputs": [
    {
     "data": {
      "text/plain": [
       "(79663, 3200)"
      ]
     },
     "execution_count": 24,
     "metadata": {},
     "output_type": "execute_result"
    }
   ],
   "source": [
    "train_vis = np.concatenate((train_set_flatten,validation_set_flatten), axis = 0)\n",
    "train_vis.shape"
   ]
  },
  {
   "cell_type": "code",
   "execution_count": 26,
   "metadata": {
    "scrolled": false
   },
   "outputs": [
    {
     "name": "stdout",
     "output_type": "stream",
     "text": [
      "\u001b[1m2490/2490\u001b[0m \u001b[32m━━━━━━━━━━━━━━━━━━━━\u001b[0m\u001b[37m\u001b[0m \u001b[1m19s\u001b[0m 7ms/step\n"
     ]
    }
   ],
   "source": [
    "predicted = autoencoder.predict(train_vis)"
   ]
  },
  {
   "cell_type": "code",
   "execution_count": 27,
   "metadata": {},
   "outputs": [
    {
     "name": "stdout",
     "output_type": "stream",
     "text": [
      "Mean Squared Error: [[6.16526364e-04 2.70075602e-01 2.84757188e-02 ... 8.08755866e-02\n",
      "  2.22435611e-01 3.97657750e-02]\n",
      " [4.13530201e-03 3.56745386e-02 6.30852612e-03 ... 2.05893369e-01\n",
      "  2.82101619e-02 1.05760154e-03]\n",
      " [4.56785932e-02 3.68071965e-01 2.86183766e-01 ... 8.35557684e-03\n",
      "  2.77922190e-01 2.04315990e-04]\n",
      " ...\n",
      " [2.49526299e-02 1.47791016e-03 1.08104678e-01 ... 4.25317339e-02\n",
      "  9.82741420e-02 7.23124131e-02]\n",
      " [5.25726961e-02 1.43350951e-01 6.98167963e-01 ... 3.24041712e-03\n",
      "  2.58577100e+00 8.98487818e-03]\n",
      " [1.47616701e-02 2.54854604e-02 1.32711240e+00 ... 1.70729002e-02\n",
      "  3.09174200e-01 4.21433419e-03]]\n"
     ]
    }
   ],
   "source": [
    "\n",
    "\n",
    "squared_errors = np.square(train_vis - predicted)\n",
    "print(f\"Mean Squared Error: {squared_errors}\")\n",
    "\n",
    "mean_across_columns = np.mean(squared_errors, axis=1)\n"
   ]
  },
  {
   "cell_type": "code",
   "execution_count": 28,
   "metadata": {},
   "outputs": [
    {
     "data": {
      "text/plain": [
       "(79663,)"
      ]
     },
     "execution_count": 28,
     "metadata": {},
     "output_type": "execute_result"
    }
   ],
   "source": [
    "mean_across_columns.shape"
   ]
  },
  {
   "cell_type": "code",
   "execution_count": 29,
   "metadata": {},
   "outputs": [
    {
     "data": {
      "image/png": "[encoded data removed]",
      "text/plain": [
       "<Figure size 1000x600 with 1 Axes>"
      ]
     },
     "metadata": {},
     "output_type": "display_data"
    }
   ],
   "source": [
    "# Plot histogram of the squared errors\n",
    "plt.figure(figsize=(10, 6))\n",
    "plt.hist(mean_across_columns.reshape(-1), bins=25, alpha=1, color='blue', log=True)  # Flatten in case of multi-dimensional data\n",
    "plt.title('Distribution of Squared Errors')\n",
    "plt.xlabel('Squared Error Value')\n",
    "plt.ylabel('Frequency')\n",
    "plt.grid(True)\n",
    "plt.show()"
   ]
  },
  {
   "cell_type": "markdown",
   "metadata": {},
   "source": []
  },
  {
   "cell_type": "code",
   "execution_count": 30,
   "metadata": {
    "scrolled": true
   },
   "outputs": [
    {
     "data": {
      "image/png": "[encoded data removed]",
      "text/plain": [
       "<Figure size 1000x600 with 1 Axes>"
      ]
     },
     "metadata": {},
     "output_type": "display_data"
    }
   ],
   "source": [
    "plt.figure(figsize=(10, 6))\n",
    "plt.hist(mean_across_columns.reshape(-1), bins=15, alpha=0.75, color='blue', density=True)\n",
    "plt.title('Normalized Histogram of Squared Errors')\n",
    "plt.xlabel('Squared Error')\n",
    "plt.ylabel('Probability Density')\n",
    "plt.show()"
   ]
  },
  {
   "cell_type": "markdown",
   "metadata": {},
   "source": [
    "## Analyzing Error Distribution\n",
    "- **Visualization Techniques:**\n",
    "  - Utilized a histogram and a probability distribution plot to visualize the distribution of mean errors.\n",
    "  - These techniques provide insights into the spread and shape of the error distribution, aiding in understanding its characteristics.\n",
    "\n",
    "- **Interpreting Skewness:**\n",
    "  - Noted the right-skewed nature of the error distribution.\n",
    "  - Skewness suggests that while most errors are relatively small, there exist some instances with significantly higher errors.\n",
    "\n",
    "- **Implications:**\n",
    "  - Understanding the distribution of errors helps in setting appropriate thresholds for anomaly detection.\n",
    "  - Right-skewness indicates a potential imbalance between normal and anomalous instances, influencing decision-making in anomaly detection."
   ]
  },
  {
   "cell_type": "code",
   "execution_count": 31,
   "metadata": {},
   "outputs": [],
   "source": [
    "#autoencoder.save('fully_trained_autoencoder.h5')"
   ]
  },
  {
   "cell_type": "markdown",
   "metadata": {},
   "source": [
    "## Transforming Error Values\n",
    "- **Transformation Procedure:**\n",
    "  - Multiplied error values by 100 to amplify differences and applied a one-plus-log transformation.\n",
    "  - Purpose: Normalize the error distribution and make it more symmetric, facilitating better analysis and threshold setting.\n",
    "\n",
    "- **Normalization Rationale:**\n",
    "  - Amplifying differences between error values enhances the discriminatory power of the model.\n",
    "  - Log transformation helps in stabilizing variance and reducing the impact of extreme values, leading to a more interpretable error distribution.\n",
    "\n",
    "- **Effectiveness Evaluation:**\n",
    "  - Assessed the transformed error distribution for improved symmetry and normality.\n",
    "  - Ensured that the transformation effectively addressed the right-skewness observed in the original error distribution."
   ]
  },
  {
   "cell_type": "code",
   "execution_count": 32,
   "metadata": {},
   "outputs": [
    {
     "data": {
      "image/png": "[encoded data removed]",
      "text/plain": [
       "<Figure size 1000x600 with 1 Axes>"
      ]
     },
     "metadata": {},
     "output_type": "display_data"
    }
   ],
   "source": [
    "# Plot histogram of the squared errors\n",
    "log_transformed_arr = np.log1p(mean_across_columns * 100)\n",
    "plt.figure(figsize=(10, 6))\n",
    "plt.hist(log_transformed_arr.reshape(-1), bins=50, alpha=1, color='blue', log=True)  # Flatten in case of multi-dimensional data\n",
    "plt.title('Distribution of Squared Errors')\n",
    "plt.xlabel('Squared Error Value')\n",
    "plt.ylabel('Frequency')\n",
    "plt.grid(True)\n",
    "plt.show()"
   ]
  },
  {
   "cell_type": "code",
   "execution_count": null,
   "metadata": {},
   "outputs": [],
   "source": []
  },
  {
   "cell_type": "markdown",
   "metadata": {},
   "source": [
    "\n",
    "## Calcualting optimal Threshold"
   ]
  },
  {
   "cell_type": "code",
   "execution_count": 33,
   "metadata": {},
   "outputs": [],
   "source": [
    "median = np.median(log_transformed_arr)\n",
    "Q1 = np.percentile(log_transformed_arr, 25)\n",
    "Q3 = np.percentile(log_transformed_arr, 75)\n",
    "IQR=Q3-Q1\n",
    "\n",
    "k = 0.01  # Adjust k to manage sensitivity\n",
    "log_threshold = Q3\n",
    "\n",
    "\n",
    "threshold = np.expm1(log_threshold) / 100.0\n",
    "\n"
   ]
  },
  {
   "cell_type": "markdown",
   "metadata": {},
   "source": [
    "### Determining Threshold for Anomaly Detection\n",
    "\n",
    "#### Threshold Selection Method:\n",
    "- **Median vs. 3rd Quartile:**\n",
    "  - Calculated both the median and the 3rd quartile of the transformed error array.\n",
    "  - Considered these statistics as thresholds for identifying anomalies within the autoencoder.\n",
    "\n",
    "#### Robustness Consideration:\n",
    "- **Advantages of Quartiles:**\n",
    "  - Utilized the 3rd quartile as the optimal threshold.\n",
    "  - Quartiles, especially the 3rd quartile, are robust measures less influenced by extreme values compared to the median.\n",
    "  - Extreme values, which might exist in the error distribution, could unduly influence the median, making it less representative of the typical error magnitude.\n",
    "\n",
    "#### Statistical Soundness:\n",
    "- **Representativeness:**\n",
    "  - The 3rd quartile represents the value below which 75% of the data points lie.\n",
    "  - By choosing this threshold, anomalies are identified based on a relatively high error value, indicating a substantial deviation from the norm.\n",
    "  - This ensures that only instances with considerably higher errors, potentially indicative of anomalies, are flagged.\n",
    "\n",
    "#### Why Not Other Values:\n",
    "- **95th Percentile or Similar:**\n",
    "  - While selecting a higher percentile, like the 95th, might seem intuitive for capturing extreme values, it could lead to an overly sensitive threshold.\n",
    "  - Extreme percentiles are more susceptible to outliers, which might not accurately represent the typical error distribution.\n",
    "  - Consequently, using such extreme percentiles as thresholds could result in a higher false positive rate, erroneously classifying normal instances as anomalies.\n",
    "\n",
    "#### Threshold Adjustment Possibilities:\n",
    "- **Consideration for Context and Use Case:**\n",
    "  - Alternative thresholding methods, such as statistical significance or domain knowledge-based thresholds, offer flexibility depending on specific requirements.\n",
    "  - Dynamic thresholding techniques, like adaptive thresholding based on contextual factors or model performance, provide avenues for improving anomaly detection accuracy over time.\n",
    "\n",
    "In summary, selecting the 3rd quartile as the threshold for anomaly detection offers a balance between robustness and representativeness. It ensures that anomalies are identified based on significant deviations from the norm while mitigating the influence of outliers. Other thresholding options should be carefully considered based on the specific context and desired trade-offs between sensitivity and specificity in anomaly detection."
   ]
  },
  {
   "cell_type": "code",
   "execution_count": 34,
   "metadata": {},
   "outputs": [
    {
     "name": "stdout",
     "output_type": "stream",
     "text": [
      "0.2977641042979751\n"
     ]
    }
   ],
   "source": [
    "print(threshold)"
   ]
  },
  {
   "cell_type": "markdown",
   "metadata": {},
   "source": [
    "# Testing our model"
   ]
  },
  {
   "cell_type": "code",
   "execution_count": 35,
   "metadata": {},
   "outputs": [
    {
     "name": "stdout",
     "output_type": "stream",
     "text": [
      "\u001b[1m631/631\u001b[0m \u001b[32m━━━━━━━━━━━━━━━━━━━━\u001b[0m\u001b[37m\u001b[0m \u001b[1m5s\u001b[0m 8ms/step\n"
     ]
    }
   ],
   "source": [
    "predicted1 = autoencoder.predict(test_set_flatten)"
   ]
  },
  {
   "cell_type": "code",
   "execution_count": 36,
   "metadata": {},
   "outputs": [
    {
     "name": "stdout",
     "output_type": "stream",
     "text": [
      "Mean Squared Error: [[1.56244694e-01 1.23417138e-02 1.27059692e+00 ... 3.27389106e-01\n",
      "  7.59004771e+00 6.54693402e-01]\n",
      " [1.74559194e-03 3.06666660e-01 2.04734631e-02 ... 2.18217608e-07\n",
      "  4.34730148e-04 2.53213179e-01]\n",
      " [1.43025894e-01 7.59890706e-03 1.69112993e-02 ... 4.24910437e-03\n",
      "  9.74020806e-02 2.39000901e-02]\n",
      " ...\n",
      " [4.78485713e-02 2.66583234e-01 6.41593269e-01 ... 2.00049644e-03\n",
      "  1.62569376e-01 6.42618075e-01]\n",
      " [5.25419172e-04 2.84559628e-01 5.87857338e-02 ... 5.27391197e-02\n",
      "  1.52654937e-01 2.57993347e-02]\n",
      " [6.93261567e-02 8.44559401e-02 8.61134531e-01 ... 2.88551261e-02\n",
      "  2.37218453e-01 1.92426341e-01]]\n"
     ]
    }
   ],
   "source": [
    "\n",
    "\n",
    "squared_errors1 = np.square(test_set_flatten - predicted1)\n",
    "print(f\"Mean Squared Error: {squared_errors1}\")\n",
    "\n",
    "mean_across_columns1 = np.mean(squared_errors1, axis=1)\n"
   ]
  },
  {
   "cell_type": "code",
   "execution_count": 37,
   "metadata": {},
   "outputs": [
    {
     "data": {
      "text/plain": [
       "(20173,)"
      ]
     },
     "execution_count": 37,
     "metadata": {},
     "output_type": "execute_result"
    }
   ],
   "source": [
    "mean_across_columns1.shape"
   ]
  },
  {
   "cell_type": "code",
   "execution_count": 38,
   "metadata": {},
   "outputs": [
    {
     "data": {
      "image/png": "[encoded data removed]",
      "text/plain": [
       "<Figure size 1000x600 with 1 Axes>"
      ]
     },
     "metadata": {},
     "output_type": "display_data"
    }
   ],
   "source": [
    "# Plot histogram of the squared errors\n",
    "plt.figure(figsize=(10, 6))\n",
    "plt.hist(mean_across_columns1.reshape(-1), bins=50, alpha=1, color='blue', log=True)  # Flatten in case of multi-dimensional data\n",
    "plt.title('Distribution of Squared Errors')\n",
    "plt.xlabel('Squared Error Value')\n",
    "plt.ylabel('Frequency')\n",
    "plt.grid(True)\n",
    "plt.show()"
   ]
  },
  {
   "cell_type": "code",
   "execution_count": 39,
   "metadata": {},
   "outputs": [
    {
     "data": {
      "image/png": "[encoded data removed]",
      "text/plain": [
       "<Figure size 1000x600 with 1 Axes>"
      ]
     },
     "metadata": {},
     "output_type": "display_data"
    }
   ],
   "source": [
    "plt.figure(figsize=(10, 6))\n",
    "plt.hist(mean_across_columns1.reshape(-1), bins=50, alpha=0.75, color='blue', density=True)\n",
    "plt.title('Normalized Histogram of Squared Errors')\n",
    "plt.xlabel('Squared Error')\n",
    "plt.ylabel('Probability Density')\n",
    "plt.show()"
   ]
  },
  {
   "cell_type": "markdown",
   "metadata": {},
   "source": [
    "I will be using 1 as my criteria fir evaluation considering a more focus in recall than accuracy"
   ]
  },
  {
   "cell_type": "code",
   "execution_count": 40,
   "metadata": {},
   "outputs": [
    {
     "name": "stdout",
     "output_type": "stream",
     "text": [
      "Classification Report:\n",
      "              precision    recall  f1-score   support\n",
      "\n",
      "           0       0.65      0.64      0.64      9999\n",
      "           1       0.65      0.66      0.65     10174\n",
      "\n",
      "    accuracy                           0.65     20173\n",
      "   macro avg       0.65      0.65      0.65     20173\n",
      "weighted avg       0.65      0.65      0.65     20173\n",
      "\n",
      "[[6386 3613]\n",
      " [3491 6683]]\n"
     ]
    }
   ],
   "source": [
    "# Get the indices where values are greater than 1\n",
    "x1 = len(test_set_flatten)\n",
    "predicted_labels = [0] * x1\n",
    "for i in range(0,x1,1):\n",
    "    if mean_across_columns1[i] > threshold:\n",
    "        predicted_labels[i] = 1\n",
    "\n",
    "\n",
    "\n",
    "\n",
    "\n",
    "from sklearn.metrics import classification_report\n",
    "\n",
    "# Generate the confusion matrix\n",
    "cm = confusion_matrix(test_set_key, predicted_labels)\n",
    "\n",
    "\n",
    "report = classification_report(test_set_key, predicted_labels)\n",
    "\n",
    "print(\"Classification Report:\")\n",
    "print(report)\n",
    "print(cm)"
   ]
  },
  {
   "cell_type": "markdown",
   "metadata": {},
   "source": [
    "### Conclusion and Summary\n",
    "\n",
    "#### Overview\n",
    "- The analysis focused on training an autoencoder for anomaly detection in flight data during final approach.\n",
    "- Various attempts were made to optimize the autoencoder architecture, including different code sizes, slopes, and dropout layers.\n",
    "\n",
    "#### Autoencoder Optimization Attempts\n",
    "- **Code Sizes and Slopes Exploration:**\n",
    "  - Explored different code sizes (100, 50, 25, 12) and slopes (rate of decrease of the size of encoder and increasce for decoder) (2, 3, 4, 5, 6) to find the optimal model.\n",
    "  - Found that a bottleneck layer size of 6 with a slope of 4 yielded the least complex and most accurate model.\n",
    "\n",
    "- **Dropout Layer Investigation:**\n",
    "  - Tested dropout layers to mitigate overfitting but found that they resulted in large loss values and long converging times, without significant improvement in model performance.\n",
    "\n",
    "- **Layer Width and Number Variation:**\n",
    "  - Experimented with different layer widths and numbers in each autoencoder but observed similar outcomes, indicating the need for a more elaborate search.\n",
    "\n",
    "#### Results and Implications\n",
    "- **Model Performance:**\n",
    "  - The final model achieved an accuracy of 65%, with precision and recall scores around 65% for both classes.\n",
    "  - The confusion matrix shows the model's ability to correctly classify both normal and anomalous instances, with some misclassifications.\n",
    "\n",
    "- **Effectiveness of Optimization Attempts:**\n",
    "  - Optimization attempts resulted in marginal improvements in model performance but highlighted the need for further refinement.\n",
    "  - A more nuanced approach, focusing on a steeper encoder with additional complexities, may better capture the dataset's complex nature.\n",
    "\n",
    "#### Future Directions\n",
    "- **Integration with CNN or LSTM:**\n",
    "  - Integrating the autoencoder with a CNN can enhance spatial analysis of snapshot data, potentially improving performance.\n",
    "  - Similarly, integrating with an LSTM can facilitate the creation of a predictive model for real-time decision support during landing.\n",
    "\n",
    "- **Continued Model Enhancement:**\n",
    "  - Further exploration of different architectures and hyperparameters may yield a more effective autoencoder.\n",
    "  - Consideration of additional features or data preprocessing techniques could enhance model understanding and performance.\n",
    "\n",
    "In conclusion, while the autoencoder achieved moderate performance, there is room for improvement through continued optimization and integration with complementary models like CNN or LSTM. Further refinement of the model architecture and exploration of additional features may lead to better anomaly detection capabilities in flight data during final approach."
   ]
  },
  {
   "cell_type": "code",
   "execution_count": 47,
   "metadata": {},
   "outputs": [
    {
     "ename": "IndentationError",
     "evalue": "unindent does not match any outer indentation level (<tokenize>, line 4)",
     "output_type": "error",
     "traceback": [
      "\u001b[1;36m  File \u001b[1;32m<tokenize>:4\u001b[1;36m\u001b[0m\n\u001b[1;33m    0       0.65      0.64      0.64      9999\u001b[0m\n\u001b[1;37m    ^\u001b[0m\n\u001b[1;31mIndentationError\u001b[0m\u001b[1;31m:\u001b[0m unindent does not match any outer indentation level\n"
     ]
    }
   ],
   "source": [
    "Classification Report:\n",
    "              precision    recall  f1-score   support\n",
    "\n",
    "           0       0.65      0.64      0.64      9999\n",
    "           1       0.65      0.66      0.65     10174\n",
    "\n",
    "    accuracy                           0.65     20173\n",
    "   macro avg       0.65      0.65      0.65     20173\n",
    "weighted avg       0.65      0.65      0.65     20173"
   ]
  },
  {
   "cell_type": "code",
   "execution_count": 48,
   "metadata": {},
   "outputs": [
    {
     "name": "stdout",
     "output_type": "stream",
     "text": [
      "       Precision  Recall  F1-Score  Support\n",
      "Class                                      \n",
      "0           0.65    0.64      0.64     9999\n",
      "1           0.65    0.66      0.65    10174\n"
     ]
    }
   ],
   "source": [
    "import pandas as pd\n",
    "\n",
    "# Data from the classification report\n",
    "data = {\n",
    "    \"Precision\": [0.65, 0.65],\n",
    "    \"Recall\": [0.64, 0.66],\n",
    "    \"F1-Score\": [0.64, 0.65],\n",
    "    \"Support\": [9999, 10174]\n",
    "}\n",
    "\n",
    "# Index for the DataFrame\n",
    "index = [\"0\", \"1\"]\n",
    "\n",
    "# Create DataFrame\n",
    "df = pd.DataFrame(data, index=index)\n",
    "\n",
    "# Add an index name\n",
    "df.index.name = 'Class'\n",
    "\n",
    "# Display the DataFrame\n",
    "print(df)\n"
   ]
  },
  {
   "cell_type": "code",
   "execution_count": 49,
   "metadata": {},
   "outputs": [
    {
     "data": {
      "text/html": [
       "<div>\n",
       "<style scoped>\n",
       "    .dataframe tbody tr th:only-of-type {\n",
       "        vertical-align: middle;\n",
       "    }\n",
       "\n",
       "    .dataframe tbody tr th {\n",
       "        vertical-align: top;\n",
       "    }\n",
       "\n",
       "    .dataframe thead th {\n",
       "        text-align: right;\n",
       "    }\n",
       "</style>\n",
       "<table border=\"1\" class=\"dataframe\">\n",
       "  <thead>\n",
       "    <tr style=\"text-align: right;\">\n",
       "      <th></th>\n",
       "      <th>Precision</th>\n",
       "      <th>Recall</th>\n",
       "      <th>F1-Score</th>\n",
       "      <th>Support</th>\n",
       "    </tr>\n",
       "    <tr>\n",
       "      <th>Class</th>\n",
       "      <th></th>\n",
       "      <th></th>\n",
       "      <th></th>\n",
       "      <th></th>\n",
       "    </tr>\n",
       "  </thead>\n",
       "  <tbody>\n",
       "    <tr>\n",
       "      <th>0</th>\n",
       "      <td>0.65</td>\n",
       "      <td>0.64</td>\n",
       "      <td>0.64</td>\n",
       "      <td>9999</td>\n",
       "    </tr>\n",
       "    <tr>\n",
       "      <th>1</th>\n",
       "      <td>0.65</td>\n",
       "      <td>0.66</td>\n",
       "      <td>0.65</td>\n",
       "      <td>10174</td>\n",
       "    </tr>\n",
       "  </tbody>\n",
       "</table>\n",
       "</div>"
      ],
      "text/plain": [
       "       Precision  Recall  F1-Score  Support\n",
       "Class                                      \n",
       "0           0.65    0.64      0.64     9999\n",
       "1           0.65    0.66      0.65    10174"
      ]
     },
     "execution_count": 49,
     "metadata": {},
     "output_type": "execute_result"
    }
   ],
   "source": [
    "df\n"
   ]
  },
  {
   "cell_type": "code",
   "execution_count": null,
   "metadata": {},
   "outputs": [],
   "source": []
  }
 ],
 "metadata": {
  "kernelspec": {
   "display_name": "Python 3 (ipykernel)",
   "language": "python",
   "name": "python3"
  },
  "language_info": {
   "codemirror_mode": {
    "name": "ipython",
    "version": 3
   },
   "file_extension": ".py",
   "mimetype": "text/x-python",
   "name": "python",
   "nbconvert_exporter": "python",
   "pygments_lexer": "ipython3",
   "version": "3.11.5"
  },
  "nav_menu": {
   "height": "279px",
   "width": "309px"
  },
  "toc": {
   "base_numbering": 1,
   "nav_menu": {},
   "number_sections": false,
   "sideBar": true,
   "skip_h1_title": false,
   "title_cell": "Table of Contents",
   "title_sidebar": "Contents",
   "toc_cell": false,
   "toc_position": {},
   "toc_section_display": "block",
   "toc_window_display": true
  },
  "varInspector": {
   "cols": {
    "lenName": 16,
    "lenType": 16,
    "lenVar": 40
   },
   "kernels_config": {
    "python": {
     "delete_cmd_postfix": "",
     "delete_cmd_prefix": "del ",
     "library": "var_list.py",
     "varRefreshCmd": "print(var_dic_list())"
    },
    "r": {
     "delete_cmd_postfix": ") ",
     "delete_cmd_prefix": "rm(",
     "library": "var_list.r",
     "varRefreshCmd": "cat(var_dic_list()) "
    }
   },
   "types_to_exclude": [
    "module",
    "function",
    "builtin_function_or_method",
    "instance",
    "_Feature"
   ],
   "window_display": false
  }
 },
 "nbformat": 4,
 "nbformat_minor": 1
}
